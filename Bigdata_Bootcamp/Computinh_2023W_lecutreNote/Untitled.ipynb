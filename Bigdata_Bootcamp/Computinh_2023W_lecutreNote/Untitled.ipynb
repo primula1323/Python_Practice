{
 "cells": [
  {
   "cell_type": "code",
   "execution_count": null,
   "id": "855aef97-c147-44dd-ad14-f98d2f292127",
   "metadata": {},
   "outputs": [],
   "source": [
    "nyan\n",
    "\n",
    "\n",
    "\n",
    "\n",
    "\n"
   ]
  },
  {
   "cell_type": "markdown",
   "id": "6ff23eb3-65b2-491e-8b50-991eeefa7602",
   "metadata": {},
   "source": [
    "# Hello World 출력\n"
   ]
  },
  {
   "cell_type": "code",
   "execution_count": null,
   "id": "bdfca422-ee61-4f56-b2b5-7c39fa04e3c3",
   "metadata": {},
   "outputs": [],
   "source": [
    "print('hello world')"
   ]
  }
 ],
 "metadata": {
  "kernelspec": {
   "display_name": "Python 3 (ipykernel)",
   "language": "python",
   "name": "python3"
  },
  "language_info": {
   "codemirror_mode": {
    "name": "ipython",
    "version": 3
   },
   "file_extension": ".py",
   "mimetype": "text/x-python",
   "name": "python",
   "nbconvert_exporter": "python",
   "pygments_lexer": "ipython3",
   "version": "3.12.1"
  }
 },
 "nbformat": 4,
 "nbformat_minor": 5
}
