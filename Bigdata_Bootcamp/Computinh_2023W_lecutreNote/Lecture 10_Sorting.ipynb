{
 "cells": [
  {
   "cell_type": "markdown",
   "id": "5b6d32e3-c57c-4c04-b9a9-e1410802497a",
   "metadata": {},
   "source": [
    "# Merge Sort"
   ]
  },
  {
   "cell_type": "markdown",
   "id": "832bb1b8-0630-427c-862c-8039d3dcc355",
   "metadata": {},
   "source": []
  },
  {
   "cell_type": "code",
   "execution_count": null,
   "id": "0dbd2b6b-d532-490f-a889-959df5de8df7",
   "metadata": {},
   "outputs": [],
   "source": []
  },
  {
   "cell_type": "code",
   "execution_count": null,
   "id": "2dd78e29-4dbd-48a1-9697-e0b24cad6f13",
   "metadata": {},
   "outputs": [],
   "source": []
  },
  {
   "cell_type": "code",
   "execution_count": null,
   "id": "efa86e3d-c3f4-4802-a76b-f52bb796075b",
   "metadata": {},
   "outputs": [],
   "source": []
  },
  {
   "cell_type": "code",
   "execution_count": null,
   "id": "95ca8c2f-d5eb-45f6-8261-0d1a55e0d1f2",
   "metadata": {},
   "outputs": [],
   "source": []
  },
  {
   "cell_type": "code",
   "execution_count": null,
   "id": "1867046b-aeb6-4b4f-b232-1969bf87cdac",
   "metadata": {},
   "outputs": [],
   "source": []
  },
  {
   "cell_type": "markdown",
   "id": "a20cd9b1-bbb2-40a6-84ff-60717813c321",
   "metadata": {},
   "source": [
    "## Implementation"
   ]
  },
  {
   "cell_type": "code",
   "execution_count": null,
   "id": "486a6b63-f6ea-49c4-b52b-f8b69632480a",
   "metadata": {},
   "outputs": [],
   "source": [
    "def mergeSort(L:list) -> None :\n",
    "    mergeSortHelp(L, 0, len(L)-1)\n",
    "\n",
    "def mergeSortHelp(L:list, first:int, last:int) :\n",
    "    if first == last :\n",
    "        return\n",
    "    else :\n",
    "        mid = first + (last - first)//2\n",
    "        mergeSortHelp(L, first, mid)\n",
    "        mergeSortHelp(L, mid + 1, last) #recursive for sublist2\n",
    "        merge(L, first, mid, last)"
   ]
  },
  {
   "cell_type": "markdown",
   "id": "d17e6ea1-b242-4b55-9434-b38d09835542",
   "metadata": {},
   "source": [
    "시간 잡아먹는 부분 : merge 파트. 단 단조증가이므로 for문 1개만 돌릴 수 있음."
   ]
  },
  {
   "cell_type": "code",
   "execution_count": null,
   "id": "14e72ee0-8d0f-488a-88f0-30cfb1736390",
   "metadata": {},
   "outputs": [],
   "source": [
    "def merge(L:list, first:int, mid:int, last:int) :\n",
    "    k = first\n",
    "    sub1 = L[first:mid+1]\n",
    "    sub2 = L[mid+1, last+1]\n",
    "    i = j = 0\n",
    "    while i < len(sub1) and j < len(sub2) :\n",
    "        if sub1[i] <= sub2[j] :\n",
    "            L[k] = sub1[i]\n",
    "            i = i + 1\n",
    "        else :\n",
    "            L[k] = sub2[j]\n",
    "            j += 1\n",
    "        k = k + 1"
   ]
  }
 ],
 "metadata": {
  "kernelspec": {
   "display_name": "Python 3 (ipykernel)",
   "language": "python",
   "name": "python3"
  },
  "language_info": {
   "codemirror_mode": {
    "name": "ipython",
    "version": 3
   },
   "file_extension": ".py",
   "mimetype": "text/x-python",
   "name": "python",
   "nbconvert_exporter": "python",
   "pygments_lexer": "ipython3",
   "version": "3.12.1"
  }
 },
 "nbformat": 4,
 "nbformat_minor": 5
}
