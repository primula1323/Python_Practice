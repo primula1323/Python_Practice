{
 "cells": [
  {
   "cell_type": "markdown",
   "id": "839464ac-4b14-4673-bd9c-3040aa4d5d3c",
   "metadata": {},
   "source": [
    "# File Opening/Writing"
   ]
  },
  {
   "cell_type": "markdown",
   "id": "ec016b76-253e-4f9b-b098-a6e11df39905",
   "metadata": {},
   "source": [
    "## Opening, reading"
   ]
  },
  {
   "cell_type": "code",
   "execution_count": 11,
   "id": "5e1f3f19-6496-40bb-bff4-3b65dd1700fb",
   "metadata": {},
   "outputs": [
    {
     "data": {
      "text/plain": [
       "<_io.TextIOWrapper name='Lecutre 7_InputFile.txt' mode='r' encoding='cp949'>"
      ]
     },
     "execution_count": 11,
     "metadata": {},
     "output_type": "execute_result"
    }
   ],
   "source": [
    "egFile = open('Lecutre 7_InputFile.txt', 'r')\n",
    "egFile\n",
    "#r : reading only, w : writing only(w/백지부터), a : append(커서가 파일 마지막에 있음- 이전 데이터 보존)"
   ]
  },
  {
   "cell_type": "code",
   "execution_count": 7,
   "id": "06880a83-1b26-4b82-b5e2-9568dd52ec2d",
   "metadata": {},
   "outputs": [
    {
     "data": {
      "text/plain": [
       "'1st line of txt\\n2nd line\\n3rd'"
      ]
     },
     "execution_count": 7,
     "metadata": {},
     "output_type": "execute_result"
    }
   ],
   "source": [
    "egFile.read()"
   ]
  },
  {
   "cell_type": "code",
   "execution_count": 14,
   "id": "a70d9c04-dfd7-4326-acf9-ced6e7324ef0",
   "metadata": {},
   "outputs": [],
   "source": [
    "egFile.close()#파일 닫기 위해"
   ]
  },
  {
   "cell_type": "code",
   "execution_count": 16,
   "id": "396c6b39-9538-4b19-bc78-8d08dd76c79f",
   "metadata": {},
   "outputs": [
    {
     "data": {
      "text/plain": [
       "'1st line of txt\\n2nd line\\n3rd'"
      ]
     },
     "execution_count": 16,
     "metadata": {},
     "output_type": "execute_result"
    }
   ],
   "source": [
    "with open('Lecutre 7_InputFile.txt', 'r') as egWith :\n",
    "    contents = egWith.read()\n",
    "\n",
    "contents"
   ]
  },
  {
   "cell_type": "markdown",
   "id": "a38ca257-0e9d-47b5-9cf0-38d936e7f67f",
   "metadata": {},
   "source": [
    "module os - getcwd(), os.chdir() 가능"
   ]
  },
  {
   "cell_type": "markdown",
   "id": "9c233af2-8747-4275-b16f-da544add15d2",
   "metadata": {},
   "source": [
    "커서는 후퇴하지 않는다. 다시 앞으로 가고 싶다면? file을 다시 로드해야.\n",
    "\n",
    "readlines method : 각 line별로 list로 저장해 줌.\n",
    "\n",
    "readline method : 현재 커서가 위치한 line만 출력."
   ]
  },
  {
   "cell_type": "markdown",
   "id": "1a469b77-607e-48fe-a3e9-dbb56d39e357",
   "metadata": {},
   "source": [
    "File에서 for loop를 돌리는 방식 : line별로 mapping."
   ]
  },
  {
   "cell_type": "markdown",
   "id": "9c6c74c7-1b73-4c20-8df7-88981cf7ba06",
   "metadata": {},
   "source": [
    "url에서 file을 가져오는 module : urllib.request\n",
    "\n",
    "urllib.request.urlopen() - 컴퓨터는 Byte로 가져옴. line.decode methods를 이용해 바꿔야.\n"
   ]
  },
  {
   "cell_type": "markdown",
   "id": "6d56beba-7ae5-4d32-a01c-83283dde2eea",
   "metadata": {},
   "source": [
    "## Writing"
   ]
  },
  {
   "cell_type": "code",
   "execution_count": 18,
   "id": "bca33e51-0969-46e6-a9ef-3cf394d5d96f",
   "metadata": {},
   "outputs": [],
   "source": [
    "with open('Lecutre 7_InputFile.txt', 'w') as output_file :\n",
    "    output_file.write('zz')"
   ]
  },
  {
   "cell_type": "code",
   "execution_count": 20,
   "id": "0c923cfe-a029-473c-904a-817b9f8ab754",
   "metadata": {},
   "outputs": [],
   "source": [
    "with open('Lecutre 7_InputFile.txt', 'a') as output_file :\n",
    "    output_file.write('zz\\nww')#끝에서 줄 안 바꾸고 바로 침."
   ]
  },
  {
   "cell_type": "markdown",
   "id": "25460e5a-3bad-4344-b986-a2ef790a8560",
   "metadata": {
    "jp-MarkdownHeadingCollapsed": true
   },
   "source": [
    "Reading and Writing together : with 뒤에서 reading 동작으로 불러오기, writing 동작으로 불러오기 동시에"
   ]
  },
  {
   "cell_type": "markdown",
   "id": "429998aa-db37-4a5d-bd5d-263400d4e409",
   "metadata": {},
   "source": [
    "## Reading Techniques"
   ]
  },
  {
   "cell_type": "markdown",
   "id": "73b47bdd-1571-44bc-8913-d75116512082",
   "metadata": {},
   "source": [
    "TextIO : 하나의 class임.\n",
    "\n",
    "skipping header, handling missing values, ..."
   ]
  }
 ],
 "metadata": {
  "kernelspec": {
   "display_name": "Python 3 (ipykernel)",
   "language": "python",
   "name": "python3"
  },
  "language_info": {
   "codemirror_mode": {
    "name": "ipython",
    "version": 3
   },
   "file_extension": ".py",
   "mimetype": "text/x-python",
   "name": "python",
   "nbconvert_exporter": "python",
   "pygments_lexer": "ipython3",
   "version": "3.12.1"
  }
 },
 "nbformat": 4,
 "nbformat_minor": 5
}
