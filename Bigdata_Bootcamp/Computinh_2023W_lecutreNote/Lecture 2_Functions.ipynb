{
 "cells": [
  {
   "cell_type": "markdown",
   "id": "adc78cbb-3798-4930-865d-2789ae6841fb",
   "metadata": {},
   "source": [
    "# Lecture 2"
   ]
  },
  {
   "cell_type": "markdown",
   "id": "d415235b-9401-4873-b762-50c7dd25e055",
   "metadata": {},
   "source": [
    "## 2.1.Functions"
   ]
  },
  {
   "cell_type": "markdown",
   "id": "51586a3b-6829-48fa-adf3-99f856738f4e",
   "metadata": {},
   "source": [
    "call expression으로 이미 built-in function 사용해 봄.\n",
    "\n",
    "그러나 필요한 기능을 추가로 활용하기 위해, 사용자 정의 함수 필요!\n",
    "\n",
    "이미 했던 기능을 재사용하며 추가로 사용하는, 프로그래밍의 첫걸음!"
   ]
  },
  {
   "cell_type": "code",
   "execution_count": 2,
   "id": "8fdd94ee-5d0c-44dc-9404-1e773fd51392",
   "metadata": {},
   "outputs": [
    {
     "data": {
      "text/plain": [
       "86.0"
      ]
     },
     "execution_count": 2,
     "metadata": {},
     "output_type": "execute_result"
    }
   ],
   "source": [
    "def convert_to_fahrenheit(a) :\n",
    "    return (a * 9)/5  + 32\n",
    "\n",
    "convert_to_fahrenheit(30)"
   ]
  },
  {
   "cell_type": "code",
   "execution_count": 3,
   "id": "45e82943-08d2-4e22-bb26-276bdeb1f729",
   "metadata": {},
   "outputs": [
    {
     "data": {
      "text/plain": [
       "30.0"
      ]
     },
     "execution_count": 3,
     "metadata": {},
     "output_type": "execute_result"
    }
   ],
   "source": [
    "def FtoC(a) :\n",
    "    return (a - 32)*(5/9)\n",
    "\n",
    "FtoC(86)"
   ]
  },
  {
   "cell_type": "markdown",
   "id": "b42f8a69-b641-471c-9327-cedddab6c165",
   "metadata": {},
   "source": [
    "Generalization\n",
    "\n",
    "parameters : Variables\n",
    "\n",
    "표현을 evaluate, 값을 만들고, return으로 출력.\n",
    "\n",
    "def \\<\\<function_name>>(\\<\\<parameters>>) :\n",
    "\n",
    "    <<function_body>>"
   ]
  },
  {
   "cell_type": "markdown",
   "id": "96b65b6b-aba2-4c88-836b-7808cd143283",
   "metadata": {},
   "source": [
    "Local Variable : 함수 안에서 생긴 새로운 Variable\n",
    "\n",
    "\n",
    "Global Variable과 Local Variable은 사라짐. Local Variable은 함수 실행 중에만 잠시 생명력을 가짐.\n",
    "\n",
    "Local Variable은 함수 밖에서 사용될 수 없음."
   ]
  },
  {
   "cell_type": "markdown",
   "id": "83d4f80c-3c29-4192-8beb-ddaf30394898",
   "metadata": {},
   "source": [
    "Namespace\n",
    "\n",
    "함수가 실행되면 Function에 대해 'Local Namespact'가 생겨남. 이와는 별개로, Python 실행시 그에 대해 Global Namespace가 생겨남.\n",
    "\n",
    "두 Namespace에 모두 있는 이름이 실행? 그 경우 현재의 Namespace에서 변수 사용."
   ]
  },
  {
   "cell_type": "markdown",
   "id": "f70f9e1c-6bea-403e-aa70-63ace3c43bd5",
   "metadata": {},
   "source": [
    "## 2.2. Memory Models for Function Calls"
   ]
  },
  {
   "cell_type": "markdown",
   "id": "b0c9ed47-cc63-4d9e-84f3-0216078fce00",
   "metadata": {},
   "source": [
    "Step 1 : 왼쪽에서 오른쪽 순서로 각 argument 실행\n",
    "\n",
    "Step 2 : Function을 위한 Namespace 생성\n",
    "\n",
    "Step 3 : Function의 각 parameter에 Value 넣음.\n",
    "\n",
    "Step 4 : Function body를 실행. return statement 실행시 함수는 끝나고 function call의 calue로는 return statement가 들어감"
   ]
  },
  {
   "cell_type": "code",
   "execution_count": 5,
   "id": "ce7b572e-06bd-4a4a-a5ba-eeae028e9227",
   "metadata": {},
   "outputs": [
    {
     "name": "stdout",
     "output_type": "stream",
     "text": [
      "20\n"
     ]
    }
   ],
   "source": [
    "def doubling(x) :\n",
    "    return 2*x\n",
    "\n",
    "x = 5\n",
    "x = doubling(x + 5)\n",
    "print(x)"
   ]
  },
  {
   "cell_type": "markdown",
   "id": "9e941514-6d27-4470-8f9e-34e88682fa72",
   "metadata": {},
   "source": [
    "## 2.3. Function Design"
   ]
  },
  {
   "cell_type": "markdown",
   "id": "2ef9064b-184b-4b1e-86c3-3a40d0364fbb",
   "metadata": {},
   "source": [
    "좋은 function design을 위해? plan이 필요!\n",
    "\n",
    "내가 하고 싶은 일을 'Name, Parameter, Body, Return, Test'로 정의."
   ]
  },
  {
   "cell_type": "code",
   "execution_count": null,
   "id": "3989df75-3dcb-48a9-896e-622e936ef005",
   "metadata": {},
   "outputs": [],
   "source": []
  },
  {
   "cell_type": "code",
   "execution_count": null,
   "id": "f84b3161-4bd4-4fbb-950e-69ae2777e150",
   "metadata": {},
   "outputs": [],
   "source": []
  },
  {
   "cell_type": "code",
   "execution_count": null,
   "id": "36bf8479-ba6f-439e-a69d-fb5fa2d394dc",
   "metadata": {},
   "outputs": [],
   "source": []
  },
  {
   "cell_type": "code",
   "execution_count": null,
   "id": "8d54395d-f45d-4d00-8fdb-597228a91144",
   "metadata": {},
   "outputs": [],
   "source": []
  },
  {
   "cell_type": "code",
   "execution_count": null,
   "id": "96ed5775-63e1-4a26-b0fb-cba6718bd6e9",
   "metadata": {},
   "outputs": [],
   "source": []
  },
  {
   "cell_type": "code",
   "execution_count": null,
   "id": "6539de5c-b19e-4663-a46c-a08dade9b265",
   "metadata": {},
   "outputs": [],
   "source": []
  },
  {
   "cell_type": "code",
   "execution_count": null,
   "id": "e1aca945-5c07-4297-9cad-b383f19142dc",
   "metadata": {},
   "outputs": [],
   "source": []
  },
  {
   "cell_type": "code",
   "execution_count": null,
   "id": "c6162046-eb6d-4fe7-9160-3fa3b1db712d",
   "metadata": {},
   "outputs": [],
   "source": []
  },
  {
   "cell_type": "code",
   "execution_count": null,
   "id": "90f9670c-2538-450f-b9d8-8a78374afccd",
   "metadata": {},
   "outputs": [],
   "source": []
  },
  {
   "cell_type": "code",
   "execution_count": null,
   "id": "0f225e2e-d38f-494b-bc8b-ff31d405c300",
   "metadata": {},
   "outputs": [],
   "source": []
  }
 ],
 "metadata": {
  "kernelspec": {
   "display_name": "Python 3 (ipykernel)",
   "language": "python",
   "name": "python3"
  },
  "language_info": {
   "codemirror_mode": {
    "name": "ipython",
    "version": 3
   },
   "file_extension": ".py",
   "mimetype": "text/x-python",
   "name": "python",
   "nbconvert_exporter": "python",
   "pygments_lexer": "ipython3",
   "version": "3.12.1"
  }
 },
 "nbformat": 4,
 "nbformat_minor": 5
}
