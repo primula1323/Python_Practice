{
 "cells": [
  {
   "cell_type": "markdown",
   "id": "1110f02d-1202-4a9c-9d81-1106693557be",
   "metadata": {},
   "source": [
    "# Trees"
   ]
  },
  {
   "cell_type": "markdown",
   "id": "3cf77526-c474-432b-803a-a05eb3a6b830",
   "metadata": {},
   "source": [
    "Trees are everywhere!\n",
    "\n",
    "k-ary trees : 자녀가 k개인 trees. link를 더 많이 날려야 할 것."
   ]
  },
  {
   "cell_type": "markdown",
   "id": "2cd22c7a-a699-4d39-a774-c5dfd35991ec",
   "metadata": {},
   "source": [
    "queue 사용해 정의!"
   ]
  },
  {
   "cell_type": "markdown",
   "id": "0c54e201-a47e-4a6d-979e-51910b1cc542",
   "metadata": {},
   "source": [
    "from collections import deque로 사용"
   ]
  },
  {
   "cell_type": "markdown",
   "id": "525d383e-0e5c-46a7-99c9-fd63f65f6d57",
   "metadata": {},
   "source": [
    "## Depth_first Traversal_Preorder"
   ]
  },
  {
   "cell_type": "code",
   "execution_count": null,
   "id": "f68d8318-f70d-499b-85c0-53bfc87844ef",
   "metadata": {},
   "outputs": [],
   "source": []
  },
  {
   "cell_type": "code",
   "execution_count": null,
   "id": "4eb5ca49-fca1-4732-817a-dd0ac04a2325",
   "metadata": {},
   "outputs": [],
   "source": []
  },
  {
   "cell_type": "code",
   "execution_count": null,
   "id": "748fe6af-0811-4afd-88bc-359f75c994a9",
   "metadata": {},
   "outputs": [],
   "source": []
  },
  {
   "cell_type": "code",
   "execution_count": null,
   "id": "9692ce99-2174-4df6-8cf7-bf700890e4b4",
   "metadata": {},
   "outputs": [],
   "source": []
  },
  {
   "cell_type": "code",
   "execution_count": null,
   "id": "81ea60bd-0cb3-4371-b344-c004fe9fedcf",
   "metadata": {},
   "outputs": [],
   "source": []
  },
  {
   "cell_type": "code",
   "execution_count": null,
   "id": "f962e3b5-20c4-488d-9664-a00430a0c808",
   "metadata": {},
   "outputs": [],
   "source": []
  },
  {
   "cell_type": "code",
   "execution_count": null,
   "id": "633d6588-092c-49d1-a192-cb5a2ce69ac6",
   "metadata": {},
   "outputs": [],
   "source": []
  },
  {
   "cell_type": "code",
   "execution_count": null,
   "id": "b17adc62-5e54-4435-a4bc-c9e9948c71f6",
   "metadata": {},
   "outputs": [],
   "source": []
  },
  {
   "cell_type": "code",
   "execution_count": null,
   "id": "9965f464-5b27-48e7-8d58-568dfc287418",
   "metadata": {},
   "outputs": [],
   "source": []
  },
  {
   "cell_type": "code",
   "execution_count": null,
   "id": "33e457c6-7959-4791-8cd4-2e8b2ece486d",
   "metadata": {},
   "outputs": [],
   "source": []
  },
  {
   "cell_type": "code",
   "execution_count": null,
   "id": "cc1b8435-23ff-44de-a22b-effd5517ccbd",
   "metadata": {},
   "outputs": [],
   "source": []
  }
 ],
 "metadata": {
  "kernelspec": {
   "display_name": "Python 3 (ipykernel)",
   "language": "python",
   "name": "python3"
  },
  "language_info": {
   "codemirror_mode": {
    "name": "ipython",
    "version": 3
   },
   "file_extension": ".py",
   "mimetype": "text/x-python",
   "name": "python",
   "nbconvert_exporter": "python",
   "pygments_lexer": "ipython3",
   "version": "3.12.1"
  }
 },
 "nbformat": 4,
 "nbformat_minor": 5
}
