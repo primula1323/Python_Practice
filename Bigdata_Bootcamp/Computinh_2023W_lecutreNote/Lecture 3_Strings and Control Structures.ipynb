{
 "cells": [
  {
   "cell_type": "markdown",
   "id": "4ade353b-afc3-4e61-b3ab-cf3305486b76",
   "metadata": {},
   "source": [
    "# Lectrue 3"
   ]
  },
  {
   "cell_type": "markdown",
   "id": "a997837a-c5bd-449c-8ca6-04036014c3f8",
   "metadata": {},
   "source": [
    "## Strings"
   ]
  },
  {
   "cell_type": "markdown",
   "id": "63c28f44-6f5e-4000-afce-4fd02288014e",
   "metadata": {},
   "source": [
    "우리가 쓸 수 있는 거의 모든 것? str type으로 표현 가능\n",
    "\n",
    "문자열. 숫자, 문장부호 등 표현가능"
   ]
  },
  {
   "cell_type": "code",
   "execution_count": 4,
   "id": "048e7c9b-3012-40a5-bc05-0ae69c7bd949",
   "metadata": {},
   "outputs": [
    {
     "name": "stdout",
     "output_type": "stream",
     "text": [
      "19\n",
      "191919\n",
      "191919\n"
     ]
    }
   ],
   "source": [
    "print('19')\n",
    "print('19' + '19' + '19')\n",
    "print(str('19'*3))"
   ]
  },
  {
   "cell_type": "code",
   "execution_count": 5,
   "id": "36e4ba31-5ade-45b5-ac0d-eb66dbc40673",
   "metadata": {},
   "outputs": [
    {
     "data": {
      "text/plain": [
       "'5'"
      ]
     },
     "execution_count": 5,
     "metadata": {},
     "output_type": "execute_result"
    }
   ],
   "source": [
    "int('1')\n",
    "float('1.2')\n",
    "len('abcde')\n",
    "str(5)"
   ]
  },
  {
   "cell_type": "markdown",
   "id": "08035c32-eb8f-4fbf-8402-54d77371733b",
   "metadata": {},
   "source": [
    "string : Value임. 즉 Variable에 할당 가능."
   ]
  },
  {
   "cell_type": "code",
   "execution_count": 6,
   "id": "1394a95c-f795-46ce-82a2-74fbb8370958",
   "metadata": {},
   "outputs": [
    {
     "name": "stdout",
     "output_type": "stream",
     "text": [
      "I'm studying Python.\n"
     ]
    }
   ],
   "source": [
    "print(\"I\\'m studying Python.\")"
   ]
  },
  {
   "cell_type": "code",
   "execution_count": 8,
   "id": "766e9436-16c5-44de-955b-1cece0a8859e",
   "metadata": {},
   "outputs": [
    {
     "name": "stdin",
     "output_type": "stream",
     "text": [
      "What's your name? sd\n"
     ]
    },
    {
     "name": "stdout",
     "output_type": "stream",
     "text": [
      "sd\n"
     ]
    }
   ],
   "source": [
    "a = input('What\\'s your name?')\n",
    "print(a)"
   ]
  },
  {
   "cell_type": "markdown",
   "id": "4d749b97-f056-46d9-9a5d-07eeffdcfff6",
   "metadata": {},
   "source": [
    "## Control Structures : Boolean types"
   ]
  },
  {
   "cell_type": "markdown",
   "id": "08d3303d-b330-4adb-bcec-bb553510484c",
   "metadata": {},
   "source": [
    "Control Structures의 의미 : 특정 조건에 따라 모든 코드 실행하지 않고 특정 코드만 실행하도록 제어\n",
    "\n",
    "'어느 코드를 언제 시행할 것인가?'"
   ]
  },
  {
   "cell_type": "code",
   "execution_count": 9,
   "id": "4e4f9baa-c595-48b1-9ee7-885565c09994",
   "metadata": {},
   "outputs": [
    {
     "data": {
      "text/plain": [
       "True"
      ]
     },
     "execution_count": 9,
     "metadata": {},
     "output_type": "execute_result"
    }
   ],
   "source": [
    "True"
   ]
  },
  {
   "cell_type": "code",
   "execution_count": 10,
   "id": "bf932b79-e48f-4d8f-aa78-5a8d980ffe55",
   "metadata": {},
   "outputs": [
    {
     "data": {
      "text/plain": [
       "False"
      ]
     },
     "execution_count": 10,
     "metadata": {},
     "output_type": "execute_result"
    }
   ],
   "source": [
    "False"
   ]
  },
  {
   "cell_type": "markdown",
   "id": "f6d6f7e6-8cbb-46f1-a967-dc50599c7631",
   "metadata": {},
   "source": [
    "Ture or False : 논리값"
   ]
  },
  {
   "cell_type": "code",
   "execution_count": 11,
   "id": "5dd25e4a-df72-49d9-8f42-1e70262e770a",
   "metadata": {},
   "outputs": [
    {
     "data": {
      "text/plain": [
       "True"
      ]
     },
     "execution_count": 11,
     "metadata": {},
     "output_type": "execute_result"
    }
   ],
   "source": [
    "True"
   ]
  },
  {
   "cell_type": "code",
   "execution_count": 12,
   "id": "72f39881-a6bf-4225-b81c-568f8ec3d42d",
   "metadata": {},
   "outputs": [
    {
     "data": {
      "text/plain": [
       "True"
      ]
     },
     "execution_count": 12,
     "metadata": {},
     "output_type": "execute_result"
    }
   ],
   "source": [
    "True or False"
   ]
  },
  {
   "cell_type": "code",
   "execution_count": 13,
   "id": "4ebda0b7-08fc-4a8c-a06e-4741af718966",
   "metadata": {},
   "outputs": [
    {
     "data": {
      "text/plain": [
       "False"
      ]
     },
     "execution_count": 13,
     "metadata": {},
     "output_type": "execute_result"
    }
   ],
   "source": [
    "not True"
   ]
  },
  {
   "cell_type": "code",
   "execution_count": 14,
   "id": "061c8b50-6a97-40cb-ba4d-c668ae670865",
   "metadata": {},
   "outputs": [
    {
     "data": {
      "text/plain": [
       "False"
      ]
     },
     "execution_count": 14,
     "metadata": {},
     "output_type": "execute_result"
    }
   ],
   "source": [
    "False and True"
   ]
  },
  {
   "cell_type": "markdown",
   "id": "1b0660d6-1b96-4a59-9eef-27650911170d",
   "metadata": {},
   "source": [
    "Relational Operators : 연산 결과로 True나 False를 반환하는 연산자\n",
    "\n",
    "< > >= <= == != in"
   ]
  },
  {
   "cell_type": "markdown",
   "id": "907a5efe-c86c-426b-b6aa-f395764a45bc",
   "metadata": {},
   "source": [
    "Short-circuit Evaluation : Code의 error가 묻힌 경우 검증가능\n",
    "\n",
    "Combining Comparisions\n",
    "\n",
    "ASCII Code and Comparing Strings\n",
    "\n",
    "the number of true : + 사용. 이 경우 True가 자동으로 1, False가 자동으로 0이 됨."
   ]
  },
  {
   "cell_type": "markdown",
   "id": "43e3d066-2e43-4523-a489-a37e3ce7542d",
   "metadata": {},
   "source": [
    "## Control Structures : If/Else"
   ]
  },
  {
   "cell_type": "markdown",
   "id": "2d52e85d-614d-4535-8384-a9fefa346785",
   "metadata": {},
   "source": [
    "If <\\<condition\\>> :\n",
    "\n",
    "    <<block>>"
   ]
  },
  {
   "cell_type": "markdown",
   "id": "5abea05f-02dd-4cbb-925f-5396bf9938cf",
   "metadata": {},
   "source": [
    "nested if is possible"
   ]
  }
 ],
 "metadata": {
  "kernelspec": {
   "display_name": "Python 3 (ipykernel)",
   "language": "python",
   "name": "python3"
  },
  "language_info": {
   "codemirror_mode": {
    "name": "ipython",
    "version": 3
   },
   "file_extension": ".py",
   "mimetype": "text/x-python",
   "name": "python",
   "nbconvert_exporter": "python",
   "pygments_lexer": "ipython3",
   "version": "3.12.1"
  }
 },
 "nbformat": 4,
 "nbformat_minor": 5
}
