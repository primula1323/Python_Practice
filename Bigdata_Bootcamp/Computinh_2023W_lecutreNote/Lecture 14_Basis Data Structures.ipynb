{
 "cells": [
  {
   "cell_type": "markdown",
   "id": "57321ebb-462e-45e2-ac94-bff8baa02a77",
   "metadata": {},
   "source": [
    "# Data Structures"
   ]
  },
  {
   "cell_type": "markdown",
   "id": "eae005ae-c9e3-460c-8697-640f5bad88db",
   "metadata": {},
   "source": [
    "## Arrays"
   ]
  },
  {
   "cell_type": "markdown",
   "id": "e6ed8ac0-ce25-42b9-9a64-acb5ee2d5136",
   "metadata": {},
   "source": [
    "arranged -> 1st memory 주소 알면 임의의 인덱스의 주소 알 수 있음.(+7을 하면 8번째가 될 것이고...)\n",
    "\n",
    "fixed length\n",
    "\n",
    "'Resizing'\n",
    "\n",
    "하부 구조부터 dynamic data structure 필요성 존재."
   ]
  },
  {
   "cell_type": "markdown",
   "id": "966ba580-e070-4c9d-9e8c-dc3f9a34f6ae",
   "metadata": {},
   "source": [
    "## Linked Lists"
   ]
  },
  {
   "cell_type": "markdown",
   "id": "2bbec2c9-8496-4ee4-aa2c-0c6278df0421",
   "metadata": {},
   "source": [
    "neiboorhood 조건 X. 다음 친구가 어디 사는지 알려 주는 주소가 존재.\n",
    "\n",
    "즉, 한 번에 원하는 인덱스로 갈 수 없음. '다음 친구 주소'와 '해당 주소 자체의 값'이 모두 존재."
   ]
  },
  {
   "cell_type": "code",
   "execution_count": 4,
   "id": "427a60f4-8aa7-423d-9fe2-50db27e0a008",
   "metadata": {},
   "outputs": [],
   "source": [
    "class LinkedNode() :\n",
    "    def __init__(self, x) :\n",
    "        self.val = x\n",
    "        self.next = None\n",
    "\n",
    "class SLList :\n",
    "    def __init__(self) -> None :\n",
    "        self.first = None\n",
    "        \n",
    "    def addFirst(self, x:int) -> None :\n",
    "        newFirst = LinkedNode(x)\n",
    "        newFirst.next = self.first\n",
    "        self.first = newFirst\n",
    "        \n",
    "    def getFirst(self) -> int :\n",
    "        if self.first:\n",
    "            return self.first.val\n",
    "        return None\n",
    "        \n",
    "    def getSize(self) -> int :\n",
    "        curNode = self.first\n",
    "        size = 0\n",
    "        while curNode != None :\n",
    "            size += 1\n",
    "            curNode = curNode.next\n",
    "        return size\n",
    "#첫 번째"
   ]
  },
  {
   "cell_type": "code",
   "execution_count": 6,
   "id": "52359c22-45e5-4b9d-86fe-a201e32d3ac6",
   "metadata": {},
   "outputs": [],
   "source": [
    "class SLList :\n",
    "    def __init__(self) -> None :\n",
    "        self.first = None\n",
    "        self.size = 0\n",
    "        \n",
    "    def addFirst(self, x:int) -> None :\n",
    "        newFirst = LinkedNode(x)\n",
    "        newFirst.next = self.first\n",
    "        self.first = newFirst\n",
    "        self.size += 1\n",
    "        \n",
    "    def getFirst(self) -> int :\n",
    "        if self.first:\n",
    "            return self.first.val\n",
    "        return None\n",
    "        \n",
    "    def getSize(self) -> int :\n",
    "        return self.size\n",
    "#두 번째"
   ]
  },
  {
   "cell_type": "code",
   "execution_count": 8,
   "id": "ccf42621-0c06-4cdd-8f29-3cb3019d1eb8",
   "metadata": {},
   "outputs": [],
   "source": [
    "class SLList :\n",
    "    def __init__(self) -> None :\n",
    "        self.first = None\n",
    "        self.size = 0\n",
    "        \n",
    "    def addFirst(self, x:int) -> None :\n",
    "        newFirst = LinkedNode(x)\n",
    "        newFirst.next = self.first\n",
    "        self.first = newFirst\n",
    "        self.size += 1\n",
    "\n",
    "    def append(self, x:int) -> None :\n",
    "        self.size += 1\n",
    "        curNode = self.first\n",
    "        while curNode.next != None :\n",
    "            curNode = curNode.next\n",
    "        curNode.next = LinkedNode(x)#None인데 next가 어디 있나?\n",
    "    \n",
    "    def getFirst(self) -> int :\n",
    "        if self.first:\n",
    "            return self.first.val\n",
    "        return None\n",
    "        \n",
    "    def getSize(self) -> int :\n",
    "        return self.size"
   ]
  },
  {
   "cell_type": "markdown",
   "id": "9e9aa3a2-cf53-4f2d-a421-4b6ebffa6f99",
   "metadata": {},
   "source": [
    "Sentinel : dummy node.\n",
    "sentinel.next가 진짜 first node. sentinel은 None이 아닌 것."
   ]
  },
  {
   "cell_type": "code",
   "execution_count": 9,
   "id": "38c1b2a1-1bb2-454d-81c5-f3e2f073d944",
   "metadata": {},
   "outputs": [],
   "source": [
    "class SLList :\n",
    "    def __init__(self) -> None :\n",
    "        self.sentinel = LinkedNode(0)\n",
    "        self.size = 0\n",
    "        \n",
    "    def addFirst(self, x:int) -> None :\n",
    "        newFirst = LinkedNode(x)\n",
    "        newFirst.next = self.sentinel.next\n",
    "        self.sentinel.next = newFirst\n",
    "        self.size += 1#sentinel.next는 first와 같음.\n",
    "\n",
    "    def append(self, x:int) -> None :\n",
    "        self.size += 1\n",
    "        curNode = self.sentinel\n",
    "        while curNode.next != None :\n",
    "            curNode = curNode.next\n",
    "        curNode.next = LinkedNode(x)#None인데 next가 어디 있나?\n",
    "    \n",
    "    def getFirst(self) -> int :\n",
    "        if self.sentinel.next:\n",
    "            return self.sentinel.next.val\n",
    "        return None\n",
    "        \n",
    "    def getSize(self) -> int :\n",
    "        return self.size"
   ]
  },
  {
   "cell_type": "markdown",
   "id": "faab92aa-de99-4a0c-b4f2-c6df83790f80",
   "metadata": {},
   "source": [
    "sentinel을 양방향에 넣고, '앞'과 '뒤'를 모두 넣는 구조? 가능. DLList."
   ]
  },
  {
   "cell_type": "markdown",
   "id": "a1880c78-dbbc-466d-a3a7-0b0152357e0f",
   "metadata": {},
   "source": [
    "## Queues"
   ]
  },
  {
   "cell_type": "markdown",
   "id": "485636f7-6fb7-47df-a824-0260bed12e2f",
   "metadata": {},
   "source": [
    "First in-First out.\n",
    "\n",
    "'줄서기'"
   ]
  },
  {
   "cell_type": "markdown",
   "id": "87f1f049-1172-4823-9142-65175b52a99e",
   "metadata": {},
   "source": [
    ".enqueue()\n",
    "\n",
    ".dequeue()"
   ]
  },
  {
   "cell_type": "markdown",
   "id": "e6222f5f-a2b0-4f8a-bdd3-f79acb6bb40b",
   "metadata": {},
   "source": [
    "## Stacks"
   ]
  },
  {
   "cell_type": "markdown",
   "id": "92b993bb-54de-4a10-81f5-9f61d4363107",
   "metadata": {},
   "source": [
    "First in-Last out.\n",
    "\n",
    "쌓기.\n",
    "\n",
    "eg : undo, 괄호"
   ]
  },
  {
   "cell_type": "markdown",
   "id": "1de1452b-3826-4506-861f-9d1924abbee8",
   "metadata": {},
   "source": [
    ".push()\n",
    "\n",
    ".pop()"
   ]
  },
  {
   "cell_type": "code",
   "execution_count": null,
   "id": "cb302e63-e002-499b-a30a-c43532d42d7c",
   "metadata": {},
   "outputs": [],
   "source": []
  },
  {
   "cell_type": "code",
   "execution_count": null,
   "id": "f52c8544-53a4-4551-9a64-c0cc9935915c",
   "metadata": {},
   "outputs": [],
   "source": []
  },
  {
   "cell_type": "code",
   "execution_count": null,
   "id": "83650a90-6350-4fa2-978e-54211dd48bdd",
   "metadata": {},
   "outputs": [],
   "source": []
  },
  {
   "cell_type": "code",
   "execution_count": null,
   "id": "b7454505-a019-462a-963a-42a7c5c32aec",
   "metadata": {},
   "outputs": [],
   "source": []
  },
  {
   "cell_type": "code",
   "execution_count": null,
   "id": "99c26a32-e743-4b7c-80b2-f85fa5dbeff2",
   "metadata": {},
   "outputs": [],
   "source": []
  }
 ],
 "metadata": {
  "kernelspec": {
   "display_name": "Python 3 (ipykernel)",
   "language": "python",
   "name": "python3"
  },
  "language_info": {
   "codemirror_mode": {
    "name": "ipython",
    "version": 3
   },
   "file_extension": ".py",
   "mimetype": "text/x-python",
   "name": "python",
   "nbconvert_exporter": "python",
   "pygments_lexer": "ipython3",
   "version": "3.12.1"
  }
 },
 "nbformat": 4,
 "nbformat_minor": 5
}
