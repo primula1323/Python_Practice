{
 "cells": [
  {
   "cell_type": "markdown",
   "id": "f71d375d-65d8-4c57-bc45-8741d03de45a",
   "metadata": {},
   "source": [
    "# Binary Search Trees"
   ]
  },
  {
   "cell_type": "markdown",
   "id": "ef99c43a-1337-490a-a3c0-df645a3d03e6",
   "metadata": {},
   "source": [
    "## Linked Lists"
   ]
  },
  {
   "cell_type": "markdown",
   "id": "cf551a4f-eda1-453e-8bbb-108b6e5f9e2e",
   "metadata": {},
   "source": [
    "slow search(o(n)) - we cannot but move to the next"
   ]
  },
  {
   "cell_type": "markdown",
   "id": "66799ec2-8330-4613-a10e-0f9765580b9a",
   "metadata": {},
   "source": [
    "sorting이 잘 되어 있다면? Linked Lists에서 Binary Search 적용가능!"
   ]
  },
  {
   "cell_type": "markdown",
   "id": "e9737b72-bb31-427a-94e1-748a83de4a07",
   "metadata": {},
   "source": [
    "## Trees"
   ]
  },
  {
   "cell_type": "markdown",
   "id": "59a94e46-ee69-4186-b4e0-22b4f1e95f80",
   "metadata": {},
   "source": [
    "서로 연결된 링크 + 임의의 두 노드쌍에 대해 각 노드를 연결하는 경로는 오직 하나\n",
    "\n",
    "사이클이 존재한다면 절대 Tree 아님."
   ]
  },
  {
   "cell_type": "markdown",
   "id": "bf444c2b-c882-4ed9-81f1-f1a80af070a8",
   "metadata": {},
   "source": [
    "root, parent, leaf, child"
   ]
  },
  {
   "cell_type": "markdown",
   "id": "8c79750f-7a33-4a6a-80b3-b50a5cf24639",
   "metadata": {},
   "source": [
    "## Binary Search Trees"
   ]
  },
  {
   "cell_type": "markdown",
   "id": "a40352b1-c2a1-4c0b-a46f-5a5acac7054e",
   "metadata": {},
   "source": [
    "node의 각 value의 값은 unique\n",
    "\n",
    "subtree(자녀들 전체의 집합) 단위에서 왼쪽 < 오른쪽\n",
    "\n",
    "내가 가진 메모리 : 루트"
   ]
  },
  {
   "cell_type": "code",
   "execution_count": null,
   "id": "10e56e22-85c8-40c4-ace7-b7deac1d6a3a",
   "metadata": {},
   "outputs": [],
   "source": []
  },
  {
   "cell_type": "code",
   "execution_count": null,
   "id": "2c143952-38ba-4ce2-98df-64ba1edf0f99",
   "metadata": {},
   "outputs": [],
   "source": []
  },
  {
   "cell_type": "code",
   "execution_count": null,
   "id": "a5825876-1e9b-4f20-9264-ddff3d0a4d2f",
   "metadata": {},
   "outputs": [],
   "source": []
  },
  {
   "cell_type": "code",
   "execution_count": null,
   "id": "73b5b241-2902-482b-ad7d-5339a675bbb0",
   "metadata": {},
   "outputs": [],
   "source": []
  },
  {
   "cell_type": "markdown",
   "id": "8ab4ffd1-368a-4e81-887a-2b843772fdc2",
   "metadata": {},
   "source": [
    "delete : 전제는 '삭제 후에도 BST의 조건 만족'해야 함\n",
    "\n",
    "자식에서 왼쪽 중 가장 오른쪽 vs. 오른쪽 중 가장 왼"
   ]
  },
  {
   "cell_type": "markdown",
   "id": "b8a72000-4b26-4b98-a637-20e3740bd787",
   "metadata": {},
   "source": [
    "시간복잡도 : O(log N). if balanced trees."
   ]
  }
 ],
 "metadata": {
  "kernelspec": {
   "display_name": "Python 3 (ipykernel)",
   "language": "python",
   "name": "python3"
  },
  "language_info": {
   "codemirror_mode": {
    "name": "ipython",
    "version": 3
   },
   "file_extension": ".py",
   "mimetype": "text/x-python",
   "name": "python",
   "nbconvert_exporter": "python",
   "pygments_lexer": "ipython3",
   "version": "3.12.1"
  }
 },
 "nbformat": 4,
 "nbformat_minor": 5
}
