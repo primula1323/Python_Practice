{
 "cells": [
  {
   "cell_type": "markdown",
   "id": "469e887f-08f7-4ba1-875a-7908995c2504",
   "metadata": {
    "jp-MarkdownHeadingCollapsed": true
   },
   "source": [
    "# Lecture 1.2"
   ]
  },
  {
   "cell_type": "markdown",
   "id": "4ce8ff88-f216-4c36-9da0-c30513c691f5",
   "metadata": {},
   "source": [
    "## Your First Program"
   ]
  },
  {
   "cell_type": "code",
   "execution_count": 1,
   "id": "4e4f8a82-da7c-4d93-be30-fa4fc4bd7dec",
   "metadata": {},
   "outputs": [
    {
     "data": {
      "text/plain": [
       "7"
      ]
     },
     "execution_count": 1,
     "metadata": {},
     "output_type": "execute_result"
    }
   ],
   "source": [
    "3 + 4"
   ]
  },
  {
   "cell_type": "markdown",
   "id": "ffe92c7a-268b-4802-b7f5-20f211f5e6e5",
   "metadata": {},
   "source": [
    "ctrl + enter : 셀 실행\n",
    "\n",
    "shift + enter : 셀 실행 + new 셀 다음에 만들기"
   ]
  },
  {
   "cell_type": "code",
   "execution_count": 11,
   "id": "7512a946-8a41-44fe-a324-6c1096bf269d",
   "metadata": {},
   "outputs": [
    {
     "data": {
      "text/plain": [
       "7"
      ]
     },
     "execution_count": 11,
     "metadata": {},
     "output_type": "execute_result"
    }
   ],
   "source": [
    "3 + 4"
   ]
  },
  {
   "cell_type": "code",
   "execution_count": 13,
   "id": "17c9fe50-f270-44be-bffa-fac9950c6e20",
   "metadata": {},
   "outputs": [
    {
     "data": {
      "text/plain": [
       "-1"
      ]
     },
     "execution_count": 13,
     "metadata": {},
     "output_type": "execute_result"
    }
   ],
   "source": [
    "3 - 4"
   ]
  },
  {
   "cell_type": "code",
   "execution_count": 15,
   "id": "ecbb8b88-e8a8-415d-9c5f-64ea38edc0a3",
   "metadata": {},
   "outputs": [
    {
     "data": {
      "text/plain": [
       "12"
      ]
     },
     "execution_count": 15,
     "metadata": {},
     "output_type": "execute_result"
    }
   ],
   "source": [
    "3 * 4"
   ]
  },
  {
   "cell_type": "code",
   "execution_count": 17,
   "id": "d6150185-df07-4a55-a1bf-5657254d76bf",
   "metadata": {},
   "outputs": [
    {
     "data": {
      "text/plain": [
       "0.75"
      ]
     },
     "execution_count": 17,
     "metadata": {},
     "output_type": "execute_result"
    }
   ],
   "source": [
    "3 / 4"
   ]
  },
  {
   "cell_type": "code",
   "execution_count": 19,
   "id": "1e6602ef-0d71-41d9-8d64-3faeac58b17c",
   "metadata": {},
   "outputs": [
    {
     "data": {
      "text/plain": [
       "81"
      ]
     },
     "execution_count": 19,
     "metadata": {},
     "output_type": "execute_result"
    }
   ],
   "source": [
    "3 ** 4"
   ]
  },
  {
   "cell_type": "code",
   "execution_count": 21,
   "id": "652aedeb-effb-4708-832c-1791e8614c78",
   "metadata": {},
   "outputs": [
    {
     "data": {
      "text/plain": [
       "2"
      ]
     },
     "execution_count": 21,
     "metadata": {},
     "output_type": "execute_result"
    }
   ],
   "source": [
    "12 % 5"
   ]
  },
  {
   "cell_type": "code",
   "execution_count": 23,
   "id": "278ecf17-09c2-4969-9ec8-41398239db0c",
   "metadata": {},
   "outputs": [
    {
     "data": {
      "text/plain": [
       "2"
      ]
     },
     "execution_count": 23,
     "metadata": {},
     "output_type": "execute_result"
    }
   ],
   "source": [
    "12 // 5"
   ]
  },
  {
   "cell_type": "markdown",
   "id": "98f3327e-3f25-47a8-93fd-5e345c67f858",
   "metadata": {},
   "source": [
    "expression : operators and operands\n",
    "\n",
    "evaluation : python evaluates the expression -> produces a value -> shows it"
   ]
  },
  {
   "cell_type": "markdown",
   "id": "d39bc9b9-8a0d-4e15-9950-51a6f8bf6260",
   "metadata": {},
   "source": [
    "## Type and values"
   ]
  },
  {
   "cell_type": "markdown",
   "id": "f67f2e9e-06e6-4c68-a30d-9269821966a6",
   "metadata": {},
   "source": [
    "Type : 두 구성 요소\n",
    "\n",
    "A set of values + a set of operations that can be applied\n",
    "\n",
    "examples : float, int"
   ]
  },
  {
   "cell_type": "markdown",
   "id": "dbc85d0b-a360-4983-b792-dbc78c3990af",
   "metadata": {},
   "source": [
    "Call expression : function을 실행하는 expression\n",
    "\n",
    "Primitive expression : "
   ]
  },
  {
   "cell_type": "code",
   "execution_count": 26,
   "id": "fee6d143-f55c-4cb9-a8f4-56af38b59e99",
   "metadata": {},
   "outputs": [
    {
     "data": {
      "text/plain": [
       "2"
      ]
     },
     "execution_count": 26,
     "metadata": {},
     "output_type": "execute_result"
    }
   ],
   "source": [
    "max(min(2, 3), min(1,4))"
   ]
  },
  {
   "cell_type": "markdown",
   "id": "931ed90f-1178-48dc-abbf-54ee2a8090b3",
   "metadata": {},
   "source": [
    "## Variable names"
   ]
  },
  {
   "cell_type": "markdown",
   "id": "2b470a70-be25-41be-a07e-9cb1bcf7aab2",
   "metadata": {},
   "source": [
    "value : 그 자체로는 의미 없음. Variable에 value를 assign함으로써 의미를 갖게 됨\n",
    "\n",
    "Variable name : 이미 규정된 일부 name에 대해서는 할당 불가."
   ]
  },
  {
   "cell_type": "code",
   "execution_count": 27,
   "id": "38d6b09c-15ab-4c85-93ee-62ec086897a1",
   "metadata": {},
   "outputs": [
    {
     "name": "stdout",
     "output_type": "stream",
     "text": [
      "1\n",
      "4 3 4\n"
     ]
    }
   ],
   "source": [
    "x = 1\n",
    "y, z = 3, 4\n",
    "print(x)\n",
    "x += 3\n",
    "print(x, y, z)"
   ]
  },
  {
   "cell_type": "markdown",
   "id": "a80a3b61-ad75-44a1-8df5-e11fa15dc483",
   "metadata": {},
   "source": [
    "assign, reassign 가능.\n",
    "\n",
    "구체적인 value 기억하지 않아도 됨."
   ]
  },
  {
   "cell_type": "markdown",
   "id": "facec0a8-611d-4cb0-8809-411cdf33b814",
   "metadata": {},
   "source": [
    "## Summary"
   ]
  },
  {
   "cell_type": "markdown",
   "id": "d34a1614-9559-4e01-b1a5-c25ee2e71640",
   "metadata": {},
   "source": [
    "Expression and Evaluation?\n",
    "\n",
    "Operator and Operand?\n",
    "\n",
    "Value and Type?\n",
    "\n",
    "Name and Variable?\n",
    "\n",
    "Assignment?"
   ]
  },
  {
   "cell_type": "markdown",
   "id": "ea7d8dc9-d3db-4442-93b3-d89e188b65cb",
   "metadata": {},
   "source": [
    "# Lecture 1.3"
   ]
  },
  {
   "cell_type": "markdown",
   "id": "114b1845-6ce3-4b1b-b4f0-9c64abfc5325",
   "metadata": {},
   "source": [
    "## Memory Model"
   ]
  },
  {
   "cell_type": "markdown",
   "id": "f5a7ba43-4d1e-4af4-bf80-ea83919a84a7",
   "metadata": {},
   "source": [
    "Assign이 일어날 때, 컴퓨터 안에서는 무슨 일이 일어나는가?"
   ]
  },
  {
   "cell_type": "markdown",
   "id": "f3eb5abb-d78e-4d96-9d47-89db18ba22fe",
   "metadata": {},
   "source": [
    "A memory object : Adress and Value\n",
    "\n",
    "e.g. The object at the memory adress id1 has type float and its value : 31.0"
   ]
  },
  {
   "cell_type": "markdown",
   "id": "58b9e07b-36fe-4255-aa63-a3e7c7a68248",
   "metadata": {},
   "source": [
    "Step 1 : expression evaluation.\n",
    "\n",
    "Step 2 :store the adress of the memory object in the variable on the left side.\n",
    "\n",
    "If reassignment happens, it just change the memory adress of the variable."
   ]
  },
  {
   "cell_type": "markdown",
   "id": "3684edea-fdb9-4206-9703-c2543d10694e",
   "metadata": {},
   "source": [
    "Variable에 저장되는 것 : 'Value'가 아님. 'Adress'가 저장됨.\n",
    "reassignment가 작동하면, 해당 value에 대응하는 adress를 새로운 adress로 '화살표를 바꾸기.' 원래 value가 삭제되는 것이 아님."
   ]
  },
  {
   "cell_type": "markdown",
   "id": "cec8b48e-b48f-47ce-ab8b-419f7990d8dc",
   "metadata": {},
   "source": [
    "## Summary"
   ]
  },
  {
   "cell_type": "markdown",
   "id": "c6e6e1ea-95e0-43c5-8afe-7c4c1d54e5e3",
   "metadata": {},
   "source": [
    "Memory Model\n",
    "\n",
    "Each value dwells in a memory box.\n",
    "\n",
    "A variable points at the memory box where its assigned values lives\n",
    "\n",
    "Reassignment is pointing at a different memory box\n",
    "\n",
    "not used memory box : deleted if 용량 넘치면"
   ]
  },
  {
   "cell_type": "markdown",
   "id": "b066139a-21e4-4d82-a562-2cbe63048ba7",
   "metadata": {
    "jp-MarkdownHeadingCollapsed": true
   },
   "source": []
  },
  {
   "cell_type": "markdown",
   "id": "8e46711e-fdf6-4a4a-b1c4-b3243803f539",
   "metadata": {},
   "source": []
  },
  {
   "cell_type": "code",
   "execution_count": null,
   "id": "31252afc-69bc-4ecb-bfed-c8bc9c2bc992",
   "metadata": {},
   "outputs": [],
   "source": []
  },
  {
   "cell_type": "code",
   "execution_count": null,
   "id": "7dabbd5e-1789-475f-a43f-43f798d19ecb",
   "metadata": {},
   "outputs": [],
   "source": []
  },
  {
   "cell_type": "code",
   "execution_count": null,
   "id": "7a34a818-8c12-4900-8b31-d1a1647e1354",
   "metadata": {},
   "outputs": [],
   "source": []
  },
  {
   "cell_type": "code",
   "execution_count": null,
   "id": "887ba700-3555-47e7-a812-9b1d8664fa2b",
   "metadata": {},
   "outputs": [],
   "source": []
  },
  {
   "cell_type": "code",
   "execution_count": null,
   "id": "a16acd10-f443-4606-82fe-0d6743ea4a9d",
   "metadata": {},
   "outputs": [],
   "source": []
  },
  {
   "cell_type": "code",
   "execution_count": null,
   "id": "1e3eb19d-8f5b-42f5-beaf-9a619a39604d",
   "metadata": {},
   "outputs": [],
   "source": []
  },
  {
   "cell_type": "code",
   "execution_count": null,
   "id": "c903acdc-bcae-4827-8ebf-9d23e1c06461",
   "metadata": {},
   "outputs": [],
   "source": []
  },
  {
   "cell_type": "code",
   "execution_count": null,
   "id": "ce774bf4-25e1-4bef-a812-476c0eeb7ed3",
   "metadata": {},
   "outputs": [],
   "source": []
  },
  {
   "cell_type": "code",
   "execution_count": null,
   "id": "b99c4672-f439-4166-a43b-906ceaecdfdf",
   "metadata": {},
   "outputs": [],
   "source": []
  },
  {
   "cell_type": "code",
   "execution_count": null,
   "id": "7c6694a9-48d6-4af8-94ef-52f6e2052d30",
   "metadata": {},
   "outputs": [],
   "source": []
  },
  {
   "cell_type": "code",
   "execution_count": null,
   "id": "5f97f03e-2822-403c-863a-9a6ae1ff6e0a",
   "metadata": {},
   "outputs": [],
   "source": []
  },
  {
   "cell_type": "code",
   "execution_count": null,
   "id": "8c25bfdb-803d-4e0c-b36c-8246a12804f2",
   "metadata": {},
   "outputs": [],
   "source": []
  }
 ],
 "metadata": {
  "kernelspec": {
   "display_name": "Python 3 (ipykernel)",
   "language": "python",
   "name": "python3"
  },
  "language_info": {
   "codemirror_mode": {
    "name": "ipython",
    "version": 3
   },
   "file_extension": ".py",
   "mimetype": "text/x-python",
   "name": "python",
   "nbconvert_exporter": "python",
   "pygments_lexer": "ipython3",
   "version": "3.12.1"
  }
 },
 "nbformat": 4,
 "nbformat_minor": 5
}
