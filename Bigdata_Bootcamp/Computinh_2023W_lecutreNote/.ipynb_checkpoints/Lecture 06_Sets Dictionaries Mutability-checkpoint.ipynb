{
 "cells": [
  {
   "cell_type": "markdown",
   "id": "9840733d-7b32-43d5-afd6-af251e1a2f93",
   "metadata": {},
   "source": [
    "# Sets"
   ]
  },
  {
   "cell_type": "markdown",
   "id": "c4072c72-160b-449c-893c-69565bd470ae",
   "metadata": {},
   "source": [
    "unordered, distinct\n",
    "\n",
    "mutable"
   ]
  },
  {
   "cell_type": "code",
   "execution_count": 2,
   "id": "09ed27a8-9a3f-4ff1-8404-00a322c124c1",
   "metadata": {},
   "outputs": [],
   "source": [
    "vowels = {'a', 'i', 'e', 'o', 'u'}\n",
    "\n",
    "emptyset = set()"
   ]
  },
  {
   "cell_type": "code",
   "execution_count": 3,
   "id": "9b623151-fb79-4612-a739-0c7dc3dfe5a5",
   "metadata": {},
   "outputs": [
    {
     "name": "stdout",
     "output_type": "stream",
     "text": [
      "o\n",
      "u\n",
      "i\n",
      "e\n",
      "a\n"
     ]
    }
   ],
   "source": [
    "for i in vowels :\n",
    "    print(i)"
   ]
  },
  {
   "cell_type": "code",
   "execution_count": 4,
   "id": "3a695207-2584-4e45-ad66-37bc18e22316",
   "metadata": {},
   "outputs": [
    {
     "name": "stdout",
     "output_type": "stream",
     "text": [
      "{'o', 'u', 'i', 'e', 'a', 'x'}\n",
      "{'o', 'u', 'i', 'e', 'a'}\n",
      "set()\n"
     ]
    }
   ],
   "source": [
    "vowels.add('x')\n",
    "print(vowels)\n",
    "vowels.remove('x')\n",
    "print(vowels)\n",
    "vowels.clear()\n",
    "print(vowels)"
   ]
  },
  {
   "cell_type": "code",
   "execution_count": 6,
   "id": "3a88162d-499a-419f-a336-f2277d286a16",
   "metadata": {},
   "outputs": [
    {
     "data": {
      "text/plain": [
       "False"
      ]
     },
     "execution_count": 6,
     "metadata": {},
     "output_type": "execute_result"
    }
   ],
   "source": [
    "vowels = {'a', 'i', 'e', 'o', 'u'}\n",
    "\n",
    "vowels.issubset(emptyset)"
   ]
  },
  {
   "cell_type": "code",
   "execution_count": 7,
   "id": "5a152c5f-eab4-4c99-94a6-12d267f39b11",
   "metadata": {},
   "outputs": [
    {
     "data": {
      "text/plain": [
       "True"
      ]
     },
     "execution_count": 7,
     "metadata": {},
     "output_type": "execute_result"
    }
   ],
   "source": [
    "vowels >= emptyset"
   ]
  },
  {
   "cell_type": "code",
   "execution_count": 5,
   "id": "2a41a184-025b-432e-a299-c8755d428fa4",
   "metadata": {},
   "outputs": [
    {
     "data": {
      "text/plain": [
       "True"
      ]
     },
     "execution_count": 5,
     "metadata": {},
     "output_type": "execute_result"
    }
   ],
   "source": [
    "vowels.issuperset(emptyset)"
   ]
  },
  {
   "cell_type": "code",
   "execution_count": 10,
   "id": "e57bb0fd-e236-4df8-9c84-444f09eceb1a",
   "metadata": {},
   "outputs": [
    {
     "data": {
      "text/plain": [
       "{'a', 'e', 'i', 'o', 'u'}"
      ]
     },
     "execution_count": 10,
     "metadata": {},
     "output_type": "execute_result"
    }
   ],
   "source": [
    "vowels.difference(emptyset)\n",
    "vowels.intersection(emptyset)\n",
    "vowels.symmetric_difference(emptyset)\n",
    "vowels.union(emptyset)"
   ]
  },
  {
   "cell_type": "markdown",
   "id": "d3beb09c-c041-414d-886d-7864a2b9abde",
   "metadata": {},
   "source": [
    "set : immutable but fast\n",
    "\n",
    "in operator 가능. 융통성 낮지만 Hash가 사용 가능해져 좋음\n",
    "\n",
    "+ hash는 memory에서 바뀌지 않는 값만 원소로 허용. 즉 list 등은 hash가 불가능하므로 set의 원소가 되지 않음."
   ]
  },
  {
   "cell_type": "markdown",
   "id": "cbda7a6c-0d6a-4c1b-9109-8b5fbd6a6c7b",
   "metadata": {},
   "source": [
    "# Tuples"
   ]
  },
  {
   "cell_type": "markdown",
   "id": "01e59670-b317-4f5f-8cb1-5c202df2234a",
   "metadata": {},
   "source": [
    "ordered, immutable."
   ]
  },
  {
   "cell_type": "code",
   "execution_count": 11,
   "id": "fbf1a611-0abe-4388-ad58-c094532c3090",
   "metadata": {},
   "outputs": [],
   "source": [
    "t1 = ()\n",
    "t2 = (8,)\n",
    "t3 = (5+2,)\n",
    "t4 = (3, 5)"
   ]
  },
  {
   "cell_type": "markdown",
   "id": "01e4983f-5697-43c6-ad28-87e065bf3786",
   "metadata": {},
   "source": [
    "# Dictionaries"
   ]
  },
  {
   "cell_type": "markdown",
   "id": "48fd1492-9b77-451a-a7d1-92f07831e18e",
   "metadata": {},
   "source": [
    "ordered(별로 중요하지는 않음.), mutable.\n",
    "\n",
    "'key' + 'value'의 쌍으로 이루어진 자료형. key : list의 index와 유사 개념."
   ]
  },
  {
   "cell_type": "code",
   "execution_count": 14,
   "id": "dfbc8b4d-dc01-4606-88cb-9ba5620e2ae7",
   "metadata": {},
   "outputs": [
    {
     "data": {
      "text/plain": [
       "3"
      ]
     },
     "execution_count": 14,
     "metadata": {},
     "output_type": "execute_result"
    }
   ],
   "source": [
    "dics_empty = {}\n",
    "dics_score = {'A':'갑', 'B':'을', 'C':3}\n",
    "dics_score['C']"
   ]
  },
  {
   "cell_type": "code",
   "execution_count": 17,
   "id": "24aa9dae-3df5-4aab-a0f3-63f066a1dddb",
   "metadata": {},
   "outputs": [
    {
     "data": {
      "text/plain": [
       "dict_items([('A', '갑'), ('B', '을'), ('C', 3)])"
      ]
     },
     "execution_count": 17,
     "metadata": {},
     "output_type": "execute_result"
    }
   ],
   "source": [
    "dics_empty.clear()\n",
    "dics_score.keys()\n",
    "dics_score.values()\n",
    "dics_score.items()"
   ]
  },
  {
   "cell_type": "code",
   "execution_count": 16,
   "id": "7c301b38-de7b-444e-9e4c-18f7f3b35bfb",
   "metadata": {},
   "outputs": [
    {
     "data": {
      "text/plain": [
       "[('A', '갑'), ('B', '을'), ('C', 3)]"
      ]
     },
     "execution_count": 16,
     "metadata": {},
     "output_type": "execute_result"
    }
   ],
   "source": [
    "list(dics_score.items())"
   ]
  },
  {
   "cell_type": "code",
   "execution_count": 21,
   "id": "c10463ec-f523-46b5-81ac-9ba9e0b8b780",
   "metadata": {},
   "outputs": [
    {
     "data": {
      "text/plain": [
       "1"
      ]
     },
     "execution_count": 21,
     "metadata": {},
     "output_type": "execute_result"
    }
   ],
   "source": [
    "dics_score.get('A')\n",
    "dics_score.get('D', 'NO')\n",
    "dics_score.pop('E', 'T')\n",
    "dics_score.setdefault('F', 1)\n",
    "#dics_score.update(dics)"
   ]
  },
  {
   "cell_type": "markdown",
   "id": "ba135fa9-ee0a-462c-a41b-ef938c162b9e",
   "metadata": {},
   "source": [
    "# Mutablity"
   ]
  },
  {
   "cell_type": "markdown",
   "id": "4beb7b83-c952-4cd4-afdd-da6077400296",
   "metadata": {},
   "source": [
    "List : contanier, elements 모두\n",
    "\n",
    "Tuple : container는 immutable, elements는 mutable.\n",
    "\n",
    "Set : contanier는 mutable, elements는 immutable. -> set은 mutable이라고 함.\n",
    "\n",
    "Dictionaries : Mutable, but keys should be immutable class."
   ]
  },
  {
   "cell_type": "code",
   "execution_count": null,
   "id": "9be35905-0227-4944-8d49-4b6ddc1de2bf",
   "metadata": {},
   "outputs": [],
   "source": []
  }
 ],
 "metadata": {
  "kernelspec": {
   "display_name": "Python 3 (ipykernel)",
   "language": "python",
   "name": "python3"
  },
  "language_info": {
   "codemirror_mode": {
    "name": "ipython",
    "version": 3
   },
   "file_extension": ".py",
   "mimetype": "text/x-python",
   "name": "python",
   "nbconvert_exporter": "python",
   "pygments_lexer": "ipython3",
   "version": "3.12.1"
  }
 },
 "nbformat": 4,
 "nbformat_minor": 5
}
