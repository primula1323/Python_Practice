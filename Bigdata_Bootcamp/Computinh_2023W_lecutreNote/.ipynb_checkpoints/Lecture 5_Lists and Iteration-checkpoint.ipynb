{
 "cells": [
  {
   "cell_type": "markdown",
   "id": "3056810e-39bf-46fc-8e16-acb2c3ad1c32",
   "metadata": {},
   "source": [
    "# Lists"
   ]
  },
  {
   "cell_type": "markdown",
   "id": "0c313068-e951-41fe-b89b-b453265d90f5",
   "metadata": {},
   "source": [
    "## Basics"
   ]
  },
  {
   "cell_type": "markdown",
   "id": "fa2b2f58-f7c3-4a21-95cf-3cd6e231680e",
   "metadata": {},
   "source": [
    "여러 객체를 한 번에 다루는 데이터 구조!\n",
    "\n",
    "A type of object containing a list of ordered items\n",
    "\n",
    "이론상 서로 다른 자료형 포함 가능. 단 error를 내기 쉬워짐. 이를 위해 module typing 필요."
   ]
  },
  {
   "cell_type": "code",
   "execution_count": 29,
   "id": "5cd02749-9164-4b04-a0f3-ba9336b88ba8",
   "metadata": {},
   "outputs": [],
   "source": [
    "EgList = [2, 5, -1, 4, 3, 3, 100, -20]\n",
    "EgList2 = EgList[:]\n",
    "EgList3 = EgList[:]"
   ]
  },
  {
   "cell_type": "code",
   "execution_count": 8,
   "id": "1f764059-6daa-4be7-80e0-fd1415b31550",
   "metadata": {},
   "outputs": [
    {
     "data": {
      "text/plain": [
       "8"
      ]
     },
     "execution_count": 8,
     "metadata": {},
     "output_type": "execute_result"
    }
   ],
   "source": [
    "len(EgList)"
   ]
  },
  {
   "cell_type": "code",
   "execution_count": 9,
   "id": "22e97c96-d373-4be9-ab31-8b942febdfa2",
   "metadata": {},
   "outputs": [
    {
     "data": {
      "text/plain": [
       "[100, -20]"
      ]
     },
     "execution_count": 9,
     "metadata": {},
     "output_type": "execute_result"
    }
   ],
   "source": [
    "[max(EgList), min(EgList)]"
   ]
  },
  {
   "cell_type": "code",
   "execution_count": 10,
   "id": "832e9d34-26f6-471f-b7ba-e897780df279",
   "metadata": {},
   "outputs": [
    {
     "data": {
      "text/plain": [
       "96"
      ]
     },
     "execution_count": 10,
     "metadata": {},
     "output_type": "execute_result"
    }
   ],
   "source": [
    "sum(EgList)"
   ]
  },
  {
   "cell_type": "code",
   "execution_count": 11,
   "id": "34efc56f-e40e-4fac-88d1-4af68f450a92",
   "metadata": {},
   "outputs": [
    {
     "data": {
      "text/plain": [
       "[-20, -1, 2, 3, 3, 4, 5, 100]"
      ]
     },
     "execution_count": 11,
     "metadata": {},
     "output_type": "execute_result"
    }
   ],
   "source": [
    "sorted(EgList)"
   ]
  },
  {
   "cell_type": "code",
   "execution_count": 13,
   "id": "84fba009-ea14-4c3c-86a3-885d18044dcf",
   "metadata": {},
   "outputs": [
    {
     "data": {
      "text/plain": [
       "[2, 5, -1, 3, 3, 100, -20]"
      ]
     },
     "execution_count": 13,
     "metadata": {},
     "output_type": "execute_result"
    }
   ],
   "source": [
    "del EgList[3]\n",
    "EgList"
   ]
  },
  {
   "cell_type": "code",
   "execution_count": 15,
   "id": "2351ba8a-32ff-4405-93e9-00a800c08323",
   "metadata": {},
   "outputs": [
    {
     "data": {
      "text/plain": [
       "True"
      ]
     },
     "execution_count": 15,
     "metadata": {},
     "output_type": "execute_result"
    }
   ],
   "source": [
    "2 in EgList"
   ]
  },
  {
   "cell_type": "markdown",
   "id": "107b0d78-00a5-4ee0-a39b-806e2730ad05",
   "metadata": {},
   "source": [
    "## Methods"
   ]
  },
  {
   "cell_type": "code",
   "execution_count": 30,
   "id": "b37389b7-98c3-4f12-be9b-531e03811710",
   "metadata": {},
   "outputs": [
    {
     "data": {
      "text/plain": [
       "[]"
      ]
     },
     "execution_count": 30,
     "metadata": {},
     "output_type": "execute_result"
    }
   ],
   "source": [
    "EgList.clear()\n",
    "EgList"
   ]
  },
  {
   "cell_type": "code",
   "execution_count": 32,
   "id": "eb32c003-8982-4e02-a512-27690587bce2",
   "metadata": {},
   "outputs": [
    {
     "data": {
      "text/plain": [
       "['asdf', 'asdf']"
      ]
     },
     "execution_count": 32,
     "metadata": {},
     "output_type": "execute_result"
    }
   ],
   "source": [
    "EgList.append('asdf')\n",
    "EgList.append('asdf')\n",
    "EgList"
   ]
  },
  {
   "cell_type": "code",
   "execution_count": 33,
   "id": "a92bc9a1-c530-4148-b594-2f504e5d49f7",
   "metadata": {},
   "outputs": [
    {
     "data": {
      "text/plain": [
       "2"
      ]
     },
     "execution_count": 33,
     "metadata": {},
     "output_type": "execute_result"
    }
   ],
   "source": [
    "EgList.count('asdf')"
   ]
  },
  {
   "cell_type": "code",
   "execution_count": 34,
   "id": "f67094d1-26d0-4ee7-9e28-725137ea0dd8",
   "metadata": {},
   "outputs": [
    {
     "data": {
      "text/plain": [
       "0"
      ]
     },
     "execution_count": 34,
     "metadata": {},
     "output_type": "execute_result"
    }
   ],
   "source": [
    "EgList.index('asdf')"
   ]
  },
  {
   "cell_type": "code",
   "execution_count": 36,
   "id": "06930f0e-ba0a-49a6-846a-39a01023d49f",
   "metadata": {},
   "outputs": [
    {
     "data": {
      "text/plain": [
       "['asdf', 'dfs', 'dfs', 'asdf']"
      ]
     },
     "execution_count": 36,
     "metadata": {},
     "output_type": "execute_result"
    }
   ],
   "source": [
    "EgList.insert(1, 'dfs')\n",
    "EgList"
   ]
  },
  {
   "cell_type": "code",
   "execution_count": 37,
   "id": "5c0e964f-068a-4ae8-bac9-771ed5ce42ad",
   "metadata": {},
   "outputs": [
    {
     "data": {
      "text/plain": [
       "'asdf'"
      ]
     },
     "execution_count": 37,
     "metadata": {},
     "output_type": "execute_result"
    }
   ],
   "source": [
    "EgList.pop()"
   ]
  },
  {
   "cell_type": "code",
   "execution_count": 40,
   "id": "9b49f4d0-0f6c-46b0-abae-4cbfa4e96957",
   "metadata": {},
   "outputs": [
    {
     "data": {
      "text/plain": [
       "[2, 5, -1, 4, -20]"
      ]
     },
     "execution_count": 40,
     "metadata": {},
     "output_type": "execute_result"
    }
   ],
   "source": [
    "EgList2.pop(4) #index의 요소 가져온 뒤 list에서 삭제\n",
    "EgList2"
   ]
  },
  {
   "cell_type": "code",
   "execution_count": 42,
   "id": "83a62699-82d1-4b49-9414-7bb48900bb91",
   "metadata": {},
   "outputs": [
    {
     "data": {
      "text/plain": [
       "[2, 5, -1, -20]"
      ]
     },
     "execution_count": 42,
     "metadata": {},
     "output_type": "execute_result"
    }
   ],
   "source": [
    "EgList2.remove(4)\n",
    "EgList2"
   ]
  },
  {
   "cell_type": "code",
   "execution_count": 45,
   "id": "49f20aea-aea2-4310-975b-b6a8c5ba4418",
   "metadata": {},
   "outputs": [
    {
     "data": {
      "text/plain": [
       "['dfs', 'dfs', 'asdf']"
      ]
     },
     "execution_count": 45,
     "metadata": {},
     "output_type": "execute_result"
    }
   ],
   "source": [
    "EgList.reverse()\n",
    "EgList.sort(reverse = True)\n",
    "EgList"
   ]
  },
  {
   "cell_type": "markdown",
   "id": "c526dc81-878c-4534-a567-43ae3d5ae00a",
   "metadata": {},
   "source": [
    "## Slicing"
   ]
  },
  {
   "cell_type": "code",
   "execution_count": 28,
   "id": "2ef2645b-08a6-4303-8a95-ecdb1b1233b1",
   "metadata": {},
   "outputs": [
    {
     "data": {
      "text/plain": [
       "[2, 5, -1]"
      ]
     },
     "execution_count": 28,
     "metadata": {},
     "output_type": "execute_result"
    }
   ],
   "source": [
    "i = 0\n",
    "j = 3\n",
    "\n",
    "EgList3[i:j]"
   ]
  },
  {
   "cell_type": "markdown",
   "id": "2d632820-c775-4cdb-8a78-16a4b5f11ad0",
   "metadata": {},
   "source": [
    "## Copy vs. Alias"
   ]
  },
  {
   "cell_type": "markdown",
   "id": "959fa0d5-e4a5-42b9-b0b3-c7d9ac0af0d4",
   "metadata": {},
   "source": [
    "copy : 복사본. memory space에 copy본의 name이 새로 생기고, 독립적인 리스트를 만들어냄. 원본에 영향 X. slice로 만듦.\n",
    "\n",
    "alias : 별명. memory space에 alias의 name이 생기지만 원본 리스트를 가리킴. 많으면 사고 위험 증가. 함수 안에서 사고칠 수 있음."
   ]
  },
  {
   "cell_type": "code",
   "execution_count": 18,
   "id": "cb4200e6-6665-43af-b149-9dea72aadb39",
   "metadata": {},
   "outputs": [],
   "source": [
    "EgList1 = [2, 5, -1, 4, 3, 3, 100, -20]\n",
    "\n",
    "Eglist1_Copy = EgList[:]\n",
    "Eglist1_Alias = EgList"
   ]
  },
  {
   "cell_type": "code",
   "execution_count": null,
   "id": "058216b3-cc37-4687-8e29-7645e3a82b4a",
   "metadata": {},
   "outputs": [],
   "source": []
  },
  {
   "cell_type": "code",
   "execution_count": null,
   "id": "31d9cbb0-fa80-464d-9672-af84650d4181",
   "metadata": {},
   "outputs": [],
   "source": []
  },
  {
   "cell_type": "markdown",
   "id": "64b7d7a0-b9b3-47c5-9b1e-bf7bc374bbf7",
   "metadata": {},
   "source": [
    "# Loops"
   ]
  },
  {
   "cell_type": "markdown",
   "id": "f0b4b0c5-888a-460f-8c84-f2ba331d8be6",
   "metadata": {},
   "source": [
    "## For"
   ]
  },
  {
   "cell_type": "markdown",
   "id": "11020d7b-f6ac-47ff-afa9-0ff5bd29d5b2",
   "metadata": {},
   "source": [
    "Write the instruction ONCE and use LOOPS to repeat!\n",
    "\n",
    "for <\\<Variable>> in <\\<list>> :\n",
    "\n",
    "    <<block>>"
   ]
  },
  {
   "cell_type": "markdown",
   "id": "4e7568b4-b38c-472f-b7fe-814c346c70af",
   "metadata": {},
   "source": [
    "list에 들어갈 수 있는 것? list는 당연. 그러나 string, a range of numbers도 가능"
   ]
  },
  {
   "cell_type": "code",
   "execution_count": 23,
   "id": "a046200e-4af0-4c60-a980-7dfa1b4ced10",
   "metadata": {},
   "outputs": [
    {
     "data": {
      "text/plain": [
       "range(2, 7, 2)"
      ]
     },
     "execution_count": 23,
     "metadata": {},
     "output_type": "execute_result"
    }
   ],
   "source": [
    "range(2,7,2)"
   ]
  },
  {
   "cell_type": "code",
   "execution_count": 24,
   "id": "5771ab67-bc82-40e2-adb5-508a89387061",
   "metadata": {},
   "outputs": [
    {
     "data": {
      "text/plain": [
       "[2, 4, 6]"
      ]
     },
     "execution_count": 24,
     "metadata": {},
     "output_type": "execute_result"
    }
   ],
   "source": [
    "list(range(2, 7, 2))"
   ]
  },
  {
   "cell_type": "markdown",
   "id": "aae9329b-03d7-4965-8fe2-f7ac9c871b40",
   "metadata": {},
   "source": [
    "list value loop : variable에 point 날림. 원래 리스트에 영향 X.\n",
    "\n",
    "list index loop : 원래 list에 영향."
   ]
  },
  {
   "cell_type": "markdown",
   "id": "a475a8e0-e846-4d2a-bddf-de7204f6e05e",
   "metadata": {},
   "source": [
    "parallel list, loops in loops 가능."
   ]
  },
  {
   "cell_type": "markdown",
   "id": "810e86df-d0b5-4257-a598-96f19c832cea",
   "metadata": {},
   "source": [
    "## While"
   ]
  },
  {
   "cell_type": "markdown",
   "id": "5eb198c0-c69f-4676-9898-3993dfc0cb3d",
   "metadata": {},
   "source": [
    "common error : 무한루프"
   ]
  },
  {
   "cell_type": "markdown",
   "id": "001c0245-aefa-4c22-a288-7e974cf7f944",
   "metadata": {},
   "source": [
    "controlling : break, continue"
   ]
  },
  {
   "cell_type": "code",
   "execution_count": null,
   "id": "9ec2a9b4-41c8-4c46-81ca-196b8f51a884",
   "metadata": {},
   "outputs": [],
   "source": []
  }
 ],
 "metadata": {
  "kernelspec": {
   "display_name": "Python 3 (ipykernel)",
   "language": "python",
   "name": "python3"
  },
  "language_info": {
   "codemirror_mode": {
    "name": "ipython",
    "version": 3
   },
   "file_extension": ".py",
   "mimetype": "text/x-python",
   "name": "python",
   "nbconvert_exporter": "python",
   "pygments_lexer": "ipython3",
   "version": "3.12.1"
  }
 },
 "nbformat": 4,
 "nbformat_minor": 5
}
