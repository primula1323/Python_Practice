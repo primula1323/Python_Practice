{
 "cells": [
  {
   "cell_type": "markdown",
   "id": "98422e4f-1976-434e-a955-0a0b5d6c6138",
   "metadata": {},
   "source": [
    "# Modules"
   ]
  },
  {
   "cell_type": "markdown",
   "id": "34ccb603-db51-4f0a-ae86-5216ebc62f31",
   "metadata": {},
   "source": [
    "## Importing"
   ]
  },
  {
   "cell_type": "markdown",
   "id": "1a1299a0-04ad-4f8f-9f20-a54f42095723",
   "metadata": {},
   "source": [
    "무슨 일이 일어나는가?\n",
    "\n",
    "module object가 importing하는 순간 memory에 등장.\n",
    "\n",
    "내가 참고하고 있는 경로에 module이 없으면? importing 실패\n",
    "\n",
    "from module import specific 기능 : memory를 아낄 수 없음... but global namespace의 name에 어떻게 매핑되느냐의 차이. 손가락 근육이 덜 아플 뿐."
   ]
  },
  {
   "cell_type": "code",
   "execution_count": 11,
   "id": "3d0e8aa4-1f04-4009-a4b3-b2429996ee56",
   "metadata": {},
   "outputs": [],
   "source": [
    "import math\n",
    "\n",
    "import numpy as np\n",
    "\n",
    "from math import pi, sqrt"
   ]
  },
  {
   "cell_type": "code",
   "execution_count": 8,
   "id": "86f4f6d3-968f-4107-983d-10bb254b171a",
   "metadata": {},
   "outputs": [
    {
     "name": "stdout",
     "output_type": "stream",
     "text": [
      "Collecting numpy\n",
      "  Obtaining dependency information for numpy from https://files.pythonhosted.org/packages/ad/11/52fbe97fd84c91105b651d25a122f8deed6d3519afb14f9771fac1c9b7de/numpy-1.26.3-cp312-cp312-win_amd64.whl.metadata\n",
      "  Downloading numpy-1.26.3-cp312-cp312-win_amd64.whl.metadata (61 kB)\n",
      "     ---------------------------------------- 0.0/61.2 kB ? eta -:--:--\n",
      "     ------------------------- ------------ 41.0/61.2 kB 960.0 kB/s eta 0:00:01\n",
      "     ---------------------------------------- 61.2/61.2 kB 1.1 MB/s eta 0:00:00\n",
      "Downloading numpy-1.26.3-cp312-cp312-win_amd64.whl (15.5 MB)\n",
      "   ---------------------------------------- 0.0/15.5 MB ? eta -:--:--\n",
      "    --------------------------------------- 0.2/15.5 MB 4.9 MB/s eta 0:00:04\n",
      "   - -------------------------------------- 0.5/15.5 MB 6.4 MB/s eta 0:00:03\n",
      "   -- ------------------------------------- 0.8/15.5 MB 6.2 MB/s eta 0:00:03\n",
      "   --- ------------------------------------ 1.2/15.5 MB 7.0 MB/s eta 0:00:03\n",
      "   ---- ----------------------------------- 1.7/15.5 MB 7.6 MB/s eta 0:00:02\n",
      "   ----- ---------------------------------- 2.1/15.5 MB 7.9 MB/s eta 0:00:02\n",
      "   ------ --------------------------------- 2.4/15.5 MB 7.7 MB/s eta 0:00:02\n",
      "   ------- -------------------------------- 2.8/15.5 MB 7.7 MB/s eta 0:00:02\n",
      "   ------- -------------------------------- 2.9/15.5 MB 7.2 MB/s eta 0:00:02\n",
      "   -------- ------------------------------- 3.2/15.5 MB 7.0 MB/s eta 0:00:02\n",
      "   -------- ------------------------------- 3.4/15.5 MB 6.9 MB/s eta 0:00:02\n",
      "   --------- ------------------------------ 3.7/15.5 MB 6.7 MB/s eta 0:00:02\n",
      "   ---------- ----------------------------- 3.9/15.5 MB 6.6 MB/s eta 0:00:02\n",
      "   ---------- ----------------------------- 4.2/15.5 MB 6.5 MB/s eta 0:00:02\n",
      "   ----------- ---------------------------- 4.4/15.5 MB 6.4 MB/s eta 0:00:02\n",
      "   ------------ --------------------------- 4.8/15.5 MB 6.5 MB/s eta 0:00:02\n",
      "   ------------ --------------------------- 5.0/15.5 MB 6.3 MB/s eta 0:00:02\n",
      "   ------------- -------------------------- 5.4/15.5 MB 6.5 MB/s eta 0:00:02\n",
      "   -------------- ------------------------- 5.8/15.5 MB 6.6 MB/s eta 0:00:02\n",
      "   --------------- ------------------------ 6.2/15.5 MB 6.7 MB/s eta 0:00:02\n",
      "   ----------------- ---------------------- 6.6/15.5 MB 6.8 MB/s eta 0:00:02\n",
      "   ------------------ --------------------- 7.0/15.5 MB 6.9 MB/s eta 0:00:02\n",
      "   ------------------- -------------------- 7.5/15.5 MB 7.0 MB/s eta 0:00:02\n",
      "   -------------------- ------------------- 7.9/15.5 MB 7.1 MB/s eta 0:00:02\n",
      "   --------------------- ------------------ 8.3/15.5 MB 7.2 MB/s eta 0:00:02\n",
      "   ---------------------- ----------------- 8.6/15.5 MB 7.3 MB/s eta 0:00:01\n",
      "   ----------------------- ---------------- 8.9/15.5 MB 7.2 MB/s eta 0:00:01\n",
      "   ------------------------ --------------- 9.3/15.5 MB 7.3 MB/s eta 0:00:01\n",
      "   ------------------------ --------------- 9.6/15.5 MB 7.2 MB/s eta 0:00:01\n",
      "   ------------------------- -------------- 10.0/15.5 MB 7.2 MB/s eta 0:00:01\n",
      "   -------------------------- ------------- 10.4/15.5 MB 7.3 MB/s eta 0:00:01\n",
      "   --------------------------- ------------ 10.7/15.5 MB 7.4 MB/s eta 0:00:01\n",
      "   ---------------------------- ----------- 11.1/15.5 MB 7.4 MB/s eta 0:00:01\n",
      "   ----------------------------- ---------- 11.5/15.5 MB 7.4 MB/s eta 0:00:01\n",
      "   ------------------------------ --------- 11.7/15.5 MB 7.3 MB/s eta 0:00:01\n",
      "   ------------------------------- -------- 12.1/15.5 MB 7.3 MB/s eta 0:00:01\n",
      "   -------------------------------- ------- 12.6/15.5 MB 7.4 MB/s eta 0:00:01\n",
      "   --------------------------------- ------ 12.9/15.5 MB 7.3 MB/s eta 0:00:01\n",
      "   ---------------------------------- ----- 13.4/15.5 MB 7.6 MB/s eta 0:00:01\n",
      "   ----------------------------------- ---- 13.8/15.5 MB 7.8 MB/s eta 0:00:01\n",
      "   ------------------------------------ --- 14.2/15.5 MB 8.0 MB/s eta 0:00:01\n",
      "   ------------------------------------- -- 14.6/15.5 MB 8.1 MB/s eta 0:00:01\n",
      "   -------------------------------------- - 15.0/15.5 MB 8.1 MB/s eta 0:00:01\n",
      "   ---------------------------------------  15.3/15.5 MB 8.4 MB/s eta 0:00:01\n",
      "   ---------------------------------------  15.5/15.5 MB 8.3 MB/s eta 0:00:01\n",
      "   ---------------------------------------- 15.5/15.5 MB 8.1 MB/s eta 0:00:00\n",
      "Installing collected packages: numpy\n",
      "Successfully installed numpy-1.26.3\n",
      "Note: you may need to restart the kernel to use updated packages.\n"
     ]
    },
    {
     "name": "stderr",
     "output_type": "stream",
     "text": [
      "\n",
      "[notice] A new release of pip is available: 23.2.1 -> 23.3.2\n",
      "[notice] To update, run: python.exe -m pip install --upgrade pip\n"
     ]
    }
   ],
   "source": [
    "pip install numpy"
   ]
  },
  {
   "cell_type": "code",
   "execution_count": 12,
   "id": "be2970ee-bf7a-44b4-98d0-a8789f717426",
   "metadata": {},
   "outputs": [
    {
     "data": {
      "text/plain": [
       "3.141592653589793"
      ]
     },
     "execution_count": 12,
     "metadata": {},
     "output_type": "execute_result"
    }
   ],
   "source": [
    "np.pi"
   ]
  },
  {
   "cell_type": "markdown",
   "id": "686b2c4b-2d73-481d-a33d-6a198eaddab8",
   "metadata": {},
   "source": [
    "math.pi = -123 가능. \n",
    "\n",
    "freezing values : Python에서는 불가능. C에서는 가능."
   ]
  },
  {
   "cell_type": "markdown",
   "id": "7c6df9da-67b3-43cd-8b26-6b02e7677e62",
   "metadata": {},
   "source": [
    "python : 자유도 높지만, 에러도 니 책임\n",
    "\n",
    "C : strict but 가장 큰 문제가 발생하기 전에 제어"
   ]
  },
  {
   "cell_type": "markdown",
   "id": "f9b65bba-7d92-4d36-b0dd-48face885f19",
   "metadata": {},
   "source": [
    "from math import * : math의 모든 기능 불러옴.\n",
    "\n",
    "한 번에 다 불러오면? 안 쓸 걸 싸그리 global namespace에 variable로 불러옴. 매우 위험!"
   ]
  },
  {
   "cell_type": "markdown",
   "id": "b8cd7491-c9f9-4585-8f5a-ad9459b54243",
   "metadata": {},
   "source": [
    "## Writing"
   ]
  },
  {
   "cell_type": "markdown",
   "id": "be0f3083-dd99-4114-891b-28e3377059f8",
   "metadata": {},
   "source": [
    "(txt file로 사용)"
   ]
  },
  {
   "cell_type": "code",
   "execution_count": 14,
   "id": "63afbbb9-6f1a-4201-a881-b8e4a37f3014",
   "metadata": {},
   "outputs": [],
   "source": [
    "import lecture_4_module_writing"
   ]
  },
  {
   "cell_type": "code",
   "execution_count": 17,
   "id": "af873bab-ed5a-4b6d-ba93-b30f4b14ebe6",
   "metadata": {},
   "outputs": [
    {
     "data": {
      "text/plain": [
       "5"
      ]
     },
     "execution_count": 17,
     "metadata": {},
     "output_type": "execute_result"
    }
   ],
   "source": [
    "lecture_4_module_writing.CtoCelsius(3)"
   ]
  },
  {
   "cell_type": "markdown",
   "id": "727bff7a-e3dc-49db-941f-11e15ff74144",
   "metadata": {},
   "source": [
    "# Classes"
   ]
  },
  {
   "cell_type": "markdown",
   "id": "76e151a3-b936-479c-b2d7-041752aa0c2b",
   "metadata": {},
   "source": [
    "class : module과 비슷하면서도 다른 오브젝트.\n",
    "\n",
    "module : file 이름 자체가 module name. class 자체는 아님.\n",
    "\n",
    "어떤 function을 class 내부에서 정의하면? method. class 자체를 function의 arguments로 상속받게 됨."
   ]
  },
  {
   "cell_type": "markdown",
   "id": "4d8c7d65-b8d7-4cb6-99d4-6187e7be1df4",
   "metadata": {},
   "source": [
    "bool, str, int 등은 사실 모두 class."
   ]
  },
  {
   "cell_type": "code",
   "execution_count": 18,
   "id": "69fb8b46-4fb1-424d-9f63-471ed99975c9",
   "metadata": {},
   "outputs": [
    {
     "name": "stdout",
     "output_type": "stream",
     "text": [
      "Help on class int in module builtins:\n",
      "\n",
      "class int(object)\n",
      " |  int([x]) -> integer\n",
      " |  int(x, base=10) -> integer\n",
      " |\n",
      " |  Convert a number or string to an integer, or return 0 if no arguments\n",
      " |  are given.  If x is a number, return x.__int__().  For floating point\n",
      " |  numbers, this truncates towards zero.\n",
      " |\n",
      " |  If x is not a number or if base is given, then x must be a string,\n",
      " |  bytes, or bytearray instance representing an integer literal in the\n",
      " |  given base.  The literal can be preceded by '+' or '-' and be surrounded\n",
      " |  by whitespace.  The base defaults to 10.  Valid bases are 0 and 2-36.\n",
      " |  Base 0 means to interpret the base from the string as an integer literal.\n",
      " |  >>> int('0b100', base=0)\n",
      " |  4\n",
      " |\n",
      " |  Built-in subclasses:\n",
      " |      bool\n",
      " |\n",
      " |  Methods defined here:\n",
      " |\n",
      " |  __abs__(self, /)\n",
      " |      abs(self)\n",
      " |\n",
      " |  __add__(self, value, /)\n",
      " |      Return self+value.\n",
      " |\n",
      " |  __and__(self, value, /)\n",
      " |      Return self&value.\n",
      " |\n",
      " |  __bool__(self, /)\n",
      " |      True if self else False\n",
      " |\n",
      " |  __ceil__(...)\n",
      " |      Ceiling of an Integral returns itself.\n",
      " |\n",
      " |  __divmod__(self, value, /)\n",
      " |      Return divmod(self, value).\n",
      " |\n",
      " |  __eq__(self, value, /)\n",
      " |      Return self==value.\n",
      " |\n",
      " |  __float__(self, /)\n",
      " |      float(self)\n",
      " |\n",
      " |  __floor__(...)\n",
      " |      Flooring an Integral returns itself.\n",
      " |\n",
      " |  __floordiv__(self, value, /)\n",
      " |      Return self//value.\n",
      " |\n",
      " |  __format__(self, format_spec, /)\n",
      " |      Convert to a string according to format_spec.\n",
      " |\n",
      " |  __ge__(self, value, /)\n",
      " |      Return self>=value.\n",
      " |\n",
      " |  __getattribute__(self, name, /)\n",
      " |      Return getattr(self, name).\n",
      " |\n",
      " |  __getnewargs__(self, /)\n",
      " |\n",
      " |  __gt__(self, value, /)\n",
      " |      Return self>value.\n",
      " |\n",
      " |  __hash__(self, /)\n",
      " |      Return hash(self).\n",
      " |\n",
      " |  __index__(self, /)\n",
      " |      Return self converted to an integer, if self is suitable for use as an index into a list.\n",
      " |\n",
      " |  __int__(self, /)\n",
      " |      int(self)\n",
      " |\n",
      " |  __invert__(self, /)\n",
      " |      ~self\n",
      " |\n",
      " |  __le__(self, value, /)\n",
      " |      Return self<=value.\n",
      " |\n",
      " |  __lshift__(self, value, /)\n",
      " |      Return self<<value.\n",
      " |\n",
      " |  __lt__(self, value, /)\n",
      " |      Return self<value.\n",
      " |\n",
      " |  __mod__(self, value, /)\n",
      " |      Return self%value.\n",
      " |\n",
      " |  __mul__(self, value, /)\n",
      " |      Return self*value.\n",
      " |\n",
      " |  __ne__(self, value, /)\n",
      " |      Return self!=value.\n",
      " |\n",
      " |  __neg__(self, /)\n",
      " |      -self\n",
      " |\n",
      " |  __or__(self, value, /)\n",
      " |      Return self|value.\n",
      " |\n",
      " |  __pos__(self, /)\n",
      " |      +self\n",
      " |\n",
      " |  __pow__(self, value, mod=None, /)\n",
      " |      Return pow(self, value, mod).\n",
      " |\n",
      " |  __radd__(self, value, /)\n",
      " |      Return value+self.\n",
      " |\n",
      " |  __rand__(self, value, /)\n",
      " |      Return value&self.\n",
      " |\n",
      " |  __rdivmod__(self, value, /)\n",
      " |      Return divmod(value, self).\n",
      " |\n",
      " |  __repr__(self, /)\n",
      " |      Return repr(self).\n",
      " |\n",
      " |  __rfloordiv__(self, value, /)\n",
      " |      Return value//self.\n",
      " |\n",
      " |  __rlshift__(self, value, /)\n",
      " |      Return value<<self.\n",
      " |\n",
      " |  __rmod__(self, value, /)\n",
      " |      Return value%self.\n",
      " |\n",
      " |  __rmul__(self, value, /)\n",
      " |      Return value*self.\n",
      " |\n",
      " |  __ror__(self, value, /)\n",
      " |      Return value|self.\n",
      " |\n",
      " |  __round__(...)\n",
      " |      Rounding an Integral returns itself.\n",
      " |\n",
      " |      Rounding with an ndigits argument also returns an integer.\n",
      " |\n",
      " |  __rpow__(self, value, mod=None, /)\n",
      " |      Return pow(value, self, mod).\n",
      " |\n",
      " |  __rrshift__(self, value, /)\n",
      " |      Return value>>self.\n",
      " |\n",
      " |  __rshift__(self, value, /)\n",
      " |      Return self>>value.\n",
      " |\n",
      " |  __rsub__(self, value, /)\n",
      " |      Return value-self.\n",
      " |\n",
      " |  __rtruediv__(self, value, /)\n",
      " |      Return value/self.\n",
      " |\n",
      " |  __rxor__(self, value, /)\n",
      " |      Return value^self.\n",
      " |\n",
      " |  __sizeof__(self, /)\n",
      " |      Returns size in memory, in bytes.\n",
      " |\n",
      " |  __sub__(self, value, /)\n",
      " |      Return self-value.\n",
      " |\n",
      " |  __truediv__(self, value, /)\n",
      " |      Return self/value.\n",
      " |\n",
      " |  __trunc__(...)\n",
      " |      Truncating an Integral returns itself.\n",
      " |\n",
      " |  __xor__(self, value, /)\n",
      " |      Return self^value.\n",
      " |\n",
      " |  as_integer_ratio(self, /)\n",
      " |      Return a pair of integers, whose ratio is equal to the original int.\n",
      " |\n",
      " |      The ratio is in lowest terms and has a positive denominator.\n",
      " |\n",
      " |      >>> (10).as_integer_ratio()\n",
      " |      (10, 1)\n",
      " |      >>> (-10).as_integer_ratio()\n",
      " |      (-10, 1)\n",
      " |      >>> (0).as_integer_ratio()\n",
      " |      (0, 1)\n",
      " |\n",
      " |  bit_count(self, /)\n",
      " |      Number of ones in the binary representation of the absolute value of self.\n",
      " |\n",
      " |      Also known as the population count.\n",
      " |\n",
      " |      >>> bin(13)\n",
      " |      '0b1101'\n",
      " |      >>> (13).bit_count()\n",
      " |      3\n",
      " |\n",
      " |  bit_length(self, /)\n",
      " |      Number of bits necessary to represent self in binary.\n",
      " |\n",
      " |      >>> bin(37)\n",
      " |      '0b100101'\n",
      " |      >>> (37).bit_length()\n",
      " |      6\n",
      " |\n",
      " |  conjugate(...)\n",
      " |      Returns self, the complex conjugate of any int.\n",
      " |\n",
      " |  is_integer(self, /)\n",
      " |      Returns True. Exists for duck type compatibility with float.is_integer.\n",
      " |\n",
      " |  to_bytes(self, /, length=1, byteorder='big', *, signed=False)\n",
      " |      Return an array of bytes representing an integer.\n",
      " |\n",
      " |      length\n",
      " |        Length of bytes object to use.  An OverflowError is raised if the\n",
      " |        integer is not representable with the given number of bytes.  Default\n",
      " |        is length 1.\n",
      " |      byteorder\n",
      " |        The byte order used to represent the integer.  If byteorder is 'big',\n",
      " |        the most significant byte is at the beginning of the byte array.  If\n",
      " |        byteorder is 'little', the most significant byte is at the end of the\n",
      " |        byte array.  To request the native byte order of the host system, use\n",
      " |        `sys.byteorder' as the byte order value.  Default is to use 'big'.\n",
      " |      signed\n",
      " |        Determines whether two's complement is used to represent the integer.\n",
      " |        If signed is False and a negative integer is given, an OverflowError\n",
      " |        is raised.\n",
      " |\n",
      " |  ----------------------------------------------------------------------\n",
      " |  Class methods defined here:\n",
      " |\n",
      " |  from_bytes(bytes, byteorder='big', *, signed=False) from builtins.type\n",
      " |      Return the integer represented by the given array of bytes.\n",
      " |\n",
      " |      bytes\n",
      " |        Holds the array of bytes to convert.  The argument must either\n",
      " |        support the buffer protocol or be an iterable object producing bytes.\n",
      " |        Bytes and bytearray are examples of built-in objects that support the\n",
      " |        buffer protocol.\n",
      " |      byteorder\n",
      " |        The byte order used to represent the integer.  If byteorder is 'big',\n",
      " |        the most significant byte is at the beginning of the byte array.  If\n",
      " |        byteorder is 'little', the most significant byte is at the end of the\n",
      " |        byte array.  To request the native byte order of the host system, use\n",
      " |        `sys.byteorder' as the byte order value.  Default is to use 'big'.\n",
      " |      signed\n",
      " |        Indicates whether two's complement is used to represent the integer.\n",
      " |\n",
      " |  ----------------------------------------------------------------------\n",
      " |  Static methods defined here:\n",
      " |\n",
      " |  __new__(*args, **kwargs) from builtins.type\n",
      " |      Create and return a new object.  See help(type) for accurate signature.\n",
      " |\n",
      " |  ----------------------------------------------------------------------\n",
      " |  Data descriptors defined here:\n",
      " |\n",
      " |  denominator\n",
      " |      the denominator of a rational number in lowest terms\n",
      " |\n",
      " |  imag\n",
      " |      the imaginary part of a complex number\n",
      " |\n",
      " |  numerator\n",
      " |      the numerator of a rational number in lowest terms\n",
      " |\n",
      " |  real\n",
      " |      the real part of a complex number\n",
      "\n"
     ]
    }
   ],
   "source": [
    "help(int)"
   ]
  },
  {
   "cell_type": "markdown",
   "id": "e23eb41b-49da-4a73-b2d0-b50fc1e1f64b",
   "metadata": {},
   "source": [
    "class : 하나의 청사진. 무언가 만들어진 건 없음. attribute : class 안에서 선언된 variables.\n",
    "\n",
    "class object : instance. class의 청사진의 실현. object는 생성되기 위해 class의 각 attribute마다 구체적인 값이 지정되어야 함.\n",
    "\n",
    "class object만 있어도 class를 몰라도 사용가능. abstraction."
   ]
  },
  {
   "cell_type": "code",
   "execution_count": 27,
   "id": "8ee9c1b8-96ff-4ad0-bcda-3627d17bbc98",
   "metadata": {},
   "outputs": [
    {
     "data": {
      "text/plain": [
       "'nases'"
      ]
     },
     "execution_count": 27,
     "metadata": {},
     "output_type": "execute_result"
    }
   ],
   "source": [
    "name_my = 'NAsEs'\n",
    "\n",
    "name_my.lower()"
   ]
  },
  {
   "cell_type": "code",
   "execution_count": 28,
   "id": "f4acb122-df02-4a89-bbf6-595809a4b8bf",
   "metadata": {},
   "outputs": [
    {
     "data": {
      "text/plain": [
       "'NASES'"
      ]
     },
     "execution_count": 28,
     "metadata": {},
     "output_type": "execute_result"
    }
   ],
   "source": [
    "name_my.upper()"
   ]
  },
  {
   "cell_type": "code",
   "execution_count": 29,
   "id": "026f2b0b-9bfd-47aa-91a1-d1717b2d4b65",
   "metadata": {},
   "outputs": [
    {
     "data": {
      "text/plain": [
       "-1"
      ]
     },
     "execution_count": 29,
     "metadata": {},
     "output_type": "execute_result"
    }
   ],
   "source": [
    "name_my.find('x')"
   ]
  },
  {
   "cell_type": "code",
   "execution_count": 30,
   "id": "97571d0a-79dd-4ce9-8d6a-eec85f0c04e4",
   "metadata": {},
   "outputs": [
    {
     "data": {
      "text/plain": [
       "-1"
      ]
     },
     "execution_count": 30,
     "metadata": {},
     "output_type": "execute_result"
    }
   ],
   "source": [
    "name_my.find('S')"
   ]
  },
  {
   "cell_type": "code",
   "execution_count": 31,
   "id": "0943bab1-fa2e-4ebc-912e-f94f09b500c3",
   "metadata": {},
   "outputs": [
    {
     "data": {
      "text/plain": [
       "2"
      ]
     },
     "execution_count": 31,
     "metadata": {},
     "output_type": "execute_result"
    }
   ],
   "source": [
    "name_my.find('s')"
   ]
  },
  {
   "cell_type": "code",
   "execution_count": 32,
   "id": "1c261870-193c-4a59-8ed4-e2b77a4cc061",
   "metadata": {},
   "outputs": [
    {
     "data": {
      "text/plain": [
       "2"
      ]
     },
     "execution_count": 32,
     "metadata": {},
     "output_type": "execute_result"
    }
   ],
   "source": [
    "name_my.count('s')"
   ]
  }
 ],
 "metadata": {
  "kernelspec": {
   "display_name": "Python 3 (ipykernel)",
   "language": "python",
   "name": "python3"
  },
  "language_info": {
   "codemirror_mode": {
    "name": "ipython",
    "version": 3
   },
   "file_extension": ".py",
   "mimetype": "text/x-python",
   "name": "python",
   "nbconvert_exporter": "python",
   "pygments_lexer": "ipython3",
   "version": "3.12.1"
  }
 },
 "nbformat": 4,
 "nbformat_minor": 5
}
