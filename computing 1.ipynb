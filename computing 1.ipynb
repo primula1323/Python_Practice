{
 "cells": [
  {
   "cell_type": "markdown",
   "id": "5348c85a",
   "metadata": {},
   "source": [
    "# Week 1"
   ]
  },
  {
   "cell_type": "markdown",
   "id": "96009f5c",
   "metadata": {},
   "source": [
    "## Day 1 : Start"
   ]
  },
  {
   "cell_type": "code",
   "execution_count": null,
   "id": "ef05d016",
   "metadata": {},
   "outputs": [],
   "source": [
    "3+6"
   ]
  },
  {
   "cell_type": "code",
   "execution_count": null,
   "id": "5f70c7fd",
   "metadata": {},
   "outputs": [],
   "source": [
    "min(max(2,3), min(5,2))"
   ]
  },
  {
   "cell_type": "code",
   "execution_count": null,
   "id": "fcb6bf40",
   "metadata": {},
   "outputs": [],
   "source": [
    "a, b = 4,5\n",
    "print(a, b)\n"
   ]
  },
  {
   "cell_type": "markdown",
   "id": "8705d517",
   "metadata": {},
   "source": [
    "## Day 2 : Functions"
   ]
  },
  {
   "cell_type": "code",
   "execution_count": 1,
   "id": "f7748f83",
   "metadata": {},
   "outputs": [
    {
     "ename": "NameError",
     "evalue": "name 'convert_to_fahrcnhcit' is not defined",
     "output_type": "error",
     "traceback": [
      "\u001b[1;31m---------------------------------------------------------------------------\u001b[0m",
      "\u001b[1;31mNameError\u001b[0m                                 Traceback (most recent call last)",
      "\u001b[1;32m~\\AppData\\Local\\Temp/ipykernel_32540/3133718603.py\u001b[0m in \u001b[0;36m<module>\u001b[1;34m\u001b[0m\n\u001b[1;32m----> 1\u001b[1;33m \u001b[0mconvert_to_fahrcnhcit\u001b[0m\u001b[1;33m(\u001b[0m\u001b[1;36m90\u001b[0m\u001b[1;33m)\u001b[0m\u001b[1;33m\u001b[0m\u001b[1;33m\u001b[0m\u001b[0m\n\u001b[0m",
      "\u001b[1;31mNameError\u001b[0m: name 'convert_to_fahrcnhcit' is not defined"
     ]
    }
   ],
   "source": [
    "convert_to_fahrcnhcit(90)"
   ]
  },
  {
   "cell_type": "code",
   "execution_count": 2,
   "id": "db2fdc3a",
   "metadata": {},
   "outputs": [],
   "source": [
    "def convert_to_fahrcnhcit(a) :\n",
    "    return a * 1.8 + 32"
   ]
  },
  {
   "cell_type": "code",
   "execution_count": 3,
   "id": "0ff3d995",
   "metadata": {},
   "outputs": [
    {
     "data": {
      "text/plain": [
       "194.0"
      ]
     },
     "execution_count": 3,
     "metadata": {},
     "output_type": "execute_result"
    }
   ],
   "source": [
    "convert_to_fahrcnhcit(90)"
   ]
  },
  {
   "cell_type": "markdown",
   "id": "990cd6c2",
   "metadata": {},
   "source": [
    "def <<함수이름>> (<<패러미터>>) : #function header\n",
    "    <<함수내용>> #function body\n",
    "    \n",
    "이제 <<함수이름>>(<<패러미터>>)는 return에 의해 결정되는 값을 내보냄\n",
    "<<패러미터>> : local variables, a가 몇 개든 상관없음.\n",
    "함수 바깥에서 사용되지 않는 지역변수\n",
    "즉, 패러미터의 값을 global로 보내는 명령이 return이라고 볼 수 있음.\n",
    "\n",
    "global과 local에서 겹치면? local의 변수를 참고.\n"
   ]
  },
  {
   "cell_type": "code",
   "execution_count": 4,
   "id": "755e4a41",
   "metadata": {},
   "outputs": [
    {
     "data": {
      "text/plain": [
       "2"
      ]
     },
     "execution_count": 4,
     "metadata": {},
     "output_type": "execute_result"
    }
   ],
   "source": [
    "True + False + True"
   ]
  },
  {
   "cell_type": "markdown",
   "id": "44c87815",
   "metadata": {},
   "source": [
    "+, * 등은 정의되지 않은 연산. 이 경우 True = 1, False = 0으로 취급.\n",
    "\n",
    "모든 Bull 타입 원소를 더하면 True의 '수' 알 수 있음."
   ]
  },
  {
   "cell_type": "code",
   "execution_count": 5,
   "id": "f74ac5b4",
   "metadata": {},
   "outputs": [
    {
     "data": {
      "text/plain": [
       "1"
      ]
     },
     "execution_count": 5,
     "metadata": {},
     "output_type": "execute_result"
    }
   ],
   "source": [
    "'HELLOhello'.count('o')"
   ]
  },
  {
   "cell_type": "markdown",
   "id": "10aab0c5",
   "metadata": {},
   "source": [
    "## iter"
   ]
  },
  {
   "cell_type": "markdown",
   "id": "6f456f7f",
   "metadata": {},
   "source": [
    "student = ['1','2','3','4']\n",
    "studenta = student\n",
    "studentb = student[:]\n",
    "student[-1]"
   ]
  },
  {
   "cell_type": "code",
   "execution_count": 7,
   "id": "5c30982b",
   "metadata": {},
   "outputs": [
    {
     "ename": "TypeError",
     "evalue": "list indices must be integers or slices, not str",
     "output_type": "error",
     "traceback": [
      "\u001b[1;31m---------------------------------------------------------------------------\u001b[0m",
      "\u001b[1;31mTypeError\u001b[0m                                 Traceback (most recent call last)",
      "\u001b[1;32m~\\AppData\\Local\\Temp/ipykernel_32540/3648759218.py\u001b[0m in \u001b[0;36m<module>\u001b[1;34m\u001b[0m\n\u001b[0;32m      1\u001b[0m \u001b[1;32mfor\u001b[0m \u001b[0mi\u001b[0m \u001b[1;32min\u001b[0m \u001b[0mstudent\u001b[0m \u001b[1;33m:\u001b[0m\u001b[1;33m\u001b[0m\u001b[1;33m\u001b[0m\u001b[0m\n\u001b[1;32m----> 2\u001b[1;33m     \u001b[0mstudent\u001b[0m\u001b[1;33m[\u001b[0m\u001b[0mi\u001b[0m\u001b[1;33m]\u001b[0m \u001b[1;33m=\u001b[0m \u001b[0mstudent\u001b[0m\u001b[1;33m[\u001b[0m\u001b[0mi\u001b[0m\u001b[1;33m]\u001b[0m \u001b[1;33m+\u001b[0m \u001b[1;34m'5'\u001b[0m\u001b[1;33m\u001b[0m\u001b[1;33m\u001b[0m\u001b[0m\n\u001b[0m\u001b[0;32m      3\u001b[0m \u001b[0mprint\u001b[0m\u001b[1;33m(\u001b[0m\u001b[0mstudent\u001b[0m\u001b[1;33m)\u001b[0m\u001b[1;33m\u001b[0m\u001b[1;33m\u001b[0m\u001b[0m\n",
      "\u001b[1;31mTypeError\u001b[0m: list indices must be integers or slices, not str"
     ]
    }
   ],
   "source": [
    "for i in student : \n",
    "    student[i] = student[i] + '5'\n",
    "print(student)"
   ]
  },
  {
   "cell_type": "code",
   "execution_count": 10,
   "id": "dda2c35b",
   "metadata": {},
   "outputs": [
    {
     "name": "stdout",
     "output_type": "stream",
     "text": [
      "['1', '2', '3', '4']\n"
     ]
    }
   ],
   "source": [
    "for i in student :\n",
    "    i = i + '5'\n",
    "print(student)"
   ]
  },
  {
   "cell_type": "code",
   "execution_count": 14,
   "id": "3f3890f7",
   "metadata": {},
   "outputs": [
    {
     "name": "stdout",
     "output_type": "stream",
     "text": [
      "['1', '2', '3', '4']\n",
      "['1', '2', '3', '4']\n"
     ]
    }
   ],
   "source": [
    "print(student)\n",
    "studentc = []\n",
    "for i in student :  \n",
    "    studentc.append(i)\n",
    "print(studentc)"
   ]
  },
  {
   "cell_type": "code",
   "execution_count": 15,
   "id": "1533e87f",
   "metadata": {},
   "outputs": [
    {
     "name": "stdout",
     "output_type": "stream",
     "text": [
      "['11', '22', '33', '44']\n"
     ]
    }
   ],
   "source": [
    "for i in range(len(studentc)) :\n",
    "    studentc[i] = studentc[i] * 2\n",
    "print(studentc)"
   ]
  },
  {
   "cell_type": "markdown",
   "id": "bf23b4ef",
   "metadata": {},
   "source": [
    "while : condition이 True인 동안 '계속 실행'\n",
    "\n",
    "주의 : while을 false로 만들지 않으면 무한루프에 빠짐"
   ]
  },
  {
   "cell_type": "markdown",
   "id": "b9935264",
   "metadata": {},
   "source": [
    "set.insubset(setB) == set<=setB"
   ]
  },
  {
   "cell_type": "code",
   "execution_count": 19,
   "id": "4365c32b",
   "metadata": {},
   "outputs": [
    {
     "data": {
      "text/plain": [
       "{'A': ['inhoe', 'jaewook'], 'A+': ['yesong'], 'C': ['hyung-sin']}"
      ]
     },
     "execution_count": 19,
     "metadata": {},
     "output_type": "execute_result"
    }
   ],
   "source": [
    "grades = {'inhoe': 'A', 'yesong': 'A+', 'jaewook': 'A', 'hyung-sin': 'C'}\n",
    "\n",
    "grades_inv = {}\n",
    "\n",
    "for student, grade in grades.items():\n",
    "    if grade in grades_inv:\n",
    "        grades_inv[grade].append(student)\n",
    "    else:\n",
    "        grades_inv[grade] = [student]\n",
    "grades_inv"
   ]
  },
  {
   "cell_type": "code",
   "execution_count": 31,
   "id": "a2e3aaa2",
   "metadata": {},
   "outputs": [
    {
     "name": "stdout",
     "output_type": "stream",
     "text": [
      "[3, 1, 6, 4, 9, 7]\n",
      "[3, 1]\n",
      "[6, 4]\n",
      "[9, 7]\n"
     ]
    },
    {
     "data": {
      "text/plain": [
       "[1]"
      ]
     },
     "execution_count": 31,
     "metadata": {},
     "output_type": "execute_result"
    }
   ],
   "source": [
    "list_of_list = [[1,2,3],[4,5,6],[7,8,9]]\n",
    "answer = []\n",
    "for j in list_of_list :\n",
    "    for i in j[::-2] :\n",
    "        answer.append(i)\n",
    "print(answer)\n",
    "\n",
    "for k in list_of_list : \n",
    "    print(k[::-2])\n",
    "\n",
    "ex111 = [1,2,3]\n",
    "ex111[0:1]\n",
    "ex111[-3:-2]    \n",
    "    "
   ]
  },
  {
   "cell_type": "code",
   "execution_count": 34,
   "id": "0fc7e909",
   "metadata": {},
   "outputs": [
    {
     "name": "stdout",
     "output_type": "stream",
     "text": [
      "painkiller\n",
      "erteicia\n",
      "\n"
     ]
    }
   ],
   "source": [
    "file = open('examplefile.txt', 'r')\n",
    "contents = file.read()\n",
    "file.close()\n",
    "print(contents)"
   ]
  },
  {
   "cell_type": "code",
   "execution_count": 39,
   "id": "e2566ac4",
   "metadata": {},
   "outputs": [
    {
     "ename": "SyntaxError",
     "evalue": "unexpected character after line continuation character (Temp/ipykernel_32540/238838025.py, line 1)",
     "output_type": "error",
     "traceback": [
      "\u001b[1;36m  File \u001b[1;32m\"C:\\Users\\Na\\AppData\\Local\\Temp/ipykernel_32540/238838025.py\"\u001b[1;36m, line \u001b[1;32m1\u001b[0m\n\u001b[1;33m    print(\\\\\\t)\u001b[0m\n\u001b[1;37m              ^\u001b[0m\n\u001b[1;31mSyntaxError\u001b[0m\u001b[1;31m:\u001b[0m unexpected character after line continuation character\n"
     ]
    }
   ],
   "source": [
    "print(\\\\\\t)"
   ]
  },
  {
   "cell_type": "markdown",
   "id": "62e3fda3",
   "metadata": {},
   "source": [
    "row string : 문자열 앞에 r 붙이면 escape sequence도 무시됨"
   ]
  },
  {
   "cell_type": "code",
   "execution_count": 40,
   "id": "420ae98b",
   "metadata": {},
   "outputs": [
    {
     "name": "stdout",
     "output_type": "stream",
     "text": [
      "\\t\n"
     ]
    }
   ],
   "source": [
    "print(r'\\t')"
   ]
  },
  {
   "cell_type": "code",
   "execution_count": 2,
   "id": "f969bd05",
   "metadata": {},
   "outputs": [
    {
     "name": "stdout",
     "output_type": "stream",
     "text": [
      "당신의 나이는? 24\n",
      "28\n"
     ]
    }
   ],
   "source": [
    "aaa1 = int(input('당신의 나이는? '))\n",
    "\n",
    "print(4+aaa1)"
   ]
  },
  {
   "cell_type": "code",
   "execution_count": 3,
   "id": "ed2fa663",
   "metadata": {},
   "outputs": [
    {
     "data": {
      "text/plain": [
       "True"
      ]
     },
     "execution_count": 3,
     "metadata": {},
     "output_type": "execute_result"
    }
   ],
   "source": [
    "'' in 'd'"
   ]
  },
  {
   "cell_type": "code",
   "execution_count": 10,
   "id": "bae4343a",
   "metadata": {},
   "outputs": [
    {
     "name": "stdout",
     "output_type": "stream",
     "text": [
      "[1, 3, 4, 5, 6, 7, 8]\n",
      "[1, 2, 3, 5] [1, 2, 3, [4, 5]]\n"
     ]
    }
   ],
   "source": [
    "A = [1,2,3,4,5,6,7,8]\n",
    "del A[1]\n",
    "print(A)\n",
    "\n",
    "B = [1,2,3, [4,5]]\n",
    "4 in B\n",
    "\n",
    "B.append(10)\n",
    "B\n",
    "B[len(B)-1]\n",
    "B.pop()\n",
    "B\n",
    "C = B\n",
    "D = B[:]\n",
    "B[len(B)-1] = 5\n",
    "print(C, D)"
   ]
  },
  {
   "cell_type": "code",
   "execution_count": 12,
   "id": "27c4036d",
   "metadata": {},
   "outputs": [
    {
     "name": "stdout",
     "output_type": "stream",
     "text": [
      "5050\n"
     ]
    }
   ],
   "source": [
    "a = 0\n",
    "for i in range(1,101) :\n",
    "    a = i + a\n",
    "print(a)"
   ]
  },
  {
   "cell_type": "code",
   "execution_count": 12,
   "id": "cb30f4ea",
   "metadata": {},
   "outputs": [
    {
     "name": "stdout",
     "output_type": "stream",
     "text": [
      "range(0, 3)\n",
      "3\n",
      "2\n",
      "3\n",
      "6\n",
      "5\n",
      "6\n",
      "10\n",
      "8\n",
      "10\n",
      "[[3, 2, 3], [6, 5, 6], [10, 8, 10]]\n"
     ]
    }
   ],
   "source": [
    "mtx = [[1,2,3], [4,5,6], [7,8,10]]\n",
    "reversed_mtx = mtx[:]\n",
    "\n",
    "print(range(0, len(mtx)))\n",
    "\n",
    "for i in range(0,len(mtx)) : \n",
    "    for j in range(0, len(mtx[i])) :\n",
    "        print(mtx[i][-j-1])\n",
    "        reversed_mtx[i][j] = mtx[i][-j-1]\n",
    "print(reversed_mtx)"
   ]
  },
  {
   "cell_type": "code",
   "execution_count": null,
   "id": "89c1860f",
   "metadata": {},
   "outputs": [],
   "source": []
  },
  {
   "cell_type": "code",
   "execution_count": null,
   "id": "ce2c631c",
   "metadata": {},
   "outputs": [],
   "source": []
  },
  {
   "cell_type": "code",
   "execution_count": null,
   "id": "ee75f05b",
   "metadata": {},
   "outputs": [],
   "source": []
  },
  {
   "cell_type": "code",
   "execution_count": null,
   "id": "0e568dd2",
   "metadata": {},
   "outputs": [],
   "source": []
  },
  {
   "cell_type": "code",
   "execution_count": null,
   "id": "ca2b5440",
   "metadata": {},
   "outputs": [],
   "source": []
  },
  {
   "cell_type": "code",
   "execution_count": null,
   "id": "10c35082",
   "metadata": {},
   "outputs": [],
   "source": []
  },
  {
   "cell_type": "code",
   "execution_count": null,
   "id": "08d18b74",
   "metadata": {},
   "outputs": [],
   "source": []
  },
  {
   "cell_type": "code",
   "execution_count": null,
   "id": "d7c39993",
   "metadata": {},
   "outputs": [],
   "source": []
  },
  {
   "cell_type": "code",
   "execution_count": null,
   "id": "88918cbc",
   "metadata": {},
   "outputs": [],
   "source": []
  },
  {
   "cell_type": "code",
   "execution_count": null,
   "id": "072cbe61",
   "metadata": {},
   "outputs": [],
   "source": []
  },
  {
   "cell_type": "code",
   "execution_count": null,
   "id": "300fcb8e",
   "metadata": {},
   "outputs": [],
   "source": []
  },
  {
   "cell_type": "code",
   "execution_count": null,
   "id": "5336fdbe",
   "metadata": {},
   "outputs": [],
   "source": []
  },
  {
   "cell_type": "code",
   "execution_count": null,
   "id": "6954ec70",
   "metadata": {},
   "outputs": [],
   "source": []
  },
  {
   "cell_type": "code",
   "execution_count": null,
   "id": "cbc82e83",
   "metadata": {},
   "outputs": [],
   "source": []
  },
  {
   "cell_type": "code",
   "execution_count": null,
   "id": "cbaada1c",
   "metadata": {},
   "outputs": [],
   "source": []
  },
  {
   "cell_type": "code",
   "execution_count": null,
   "id": "23162b4f",
   "metadata": {},
   "outputs": [],
   "source": []
  },
  {
   "cell_type": "code",
   "execution_count": null,
   "id": "69195df5",
   "metadata": {},
   "outputs": [],
   "source": []
  },
  {
   "cell_type": "code",
   "execution_count": null,
   "id": "e1c4e938",
   "metadata": {},
   "outputs": [],
   "source": []
  },
  {
   "cell_type": "code",
   "execution_count": null,
   "id": "88470ab7",
   "metadata": {},
   "outputs": [],
   "source": []
  }
 ],
 "metadata": {
  "kernelspec": {
   "display_name": "Python 3 (ipykernel)",
   "language": "python",
   "name": "python3"
  },
  "language_info": {
   "codemirror_mode": {
    "name": "ipython",
    "version": 3
   },
   "file_extension": ".py",
   "mimetype": "text/x-python",
   "name": "python",
   "nbconvert_exporter": "python",
   "pygments_lexer": "ipython3",
   "version": "3.9.7"
  }
 },
 "nbformat": 4,
 "nbformat_minor": 5
}
