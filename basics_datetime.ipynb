{
 "cells": [
  {
   "cell_type": "markdown",
   "metadata": {},
   "source": [
    "# `datetime`"
   ]
  },
  {
   "cell_type": "markdown",
   "metadata": {},
   "source": [
    "`datetime` 패키지는 날짜/시간 관련 자료형을 제공한다."
   ]
  },
  {
   "cell_type": "code",
   "execution_count": 2,
   "metadata": {},
   "outputs": [],
   "source": [
    "import datetime"
   ]
  },
  {
   "cell_type": "markdown",
   "metadata": {},
   "source": [
    "## datetime data structure"
   ]
  },
  {
   "cell_type": "code",
   "execution_count": 4,
   "metadata": {},
   "outputs": [
    {
     "data": {
      "text/plain": [
       "datetime.datetime(2025, 1, 14, 3, 11, 49, 857959)"
      ]
     },
     "execution_count": 4,
     "metadata": {},
     "output_type": "execute_result"
    }
   ],
   "source": [
    "nowtime = datetime.datetime.now()\n",
    "nowtime"
   ]
  },
  {
   "cell_type": "markdown",
   "metadata": {},
   "source": [
    "datetime 자료형은 연, 월, 일, 시, 분, 초, 마이크로초 관련 정보를 담고 있다."
   ]
  },
  {
   "cell_type": "code",
   "execution_count": 6,
   "metadata": {},
   "outputs": [
    {
     "data": {
      "text/plain": [
       "(2025, 1, 14, 3, 11, 49, 857959)"
      ]
     },
     "execution_count": 6,
     "metadata": {},
     "output_type": "execute_result"
    }
   ],
   "source": [
    "nowtime.year, nowtime.month, nowtime.day, nowtime.hour, nowtime.minute, nowtime.second, nowtime.microsecond"
   ]
  },
  {
   "cell_type": "code",
   "execution_count": 7,
   "metadata": {},
   "outputs": [
    {
     "data": {
      "text/plain": [
       "1"
      ]
     },
     "execution_count": 7,
     "metadata": {},
     "output_type": "execute_result"
    }
   ],
   "source": [
    "nowtime.weekday()"
   ]
  },
  {
   "cell_type": "markdown",
   "metadata": {},
   "source": [
    "datetime 자료형의 `.weekday()` 메소드는 요일을 반환한다. 0 = 월요일, 6 = 일요일이다."
   ]
  },
  {
   "cell_type": "code",
   "execution_count": 8,
   "metadata": {},
   "outputs": [
    {
     "data": {
      "text/plain": [
       "datetime.date(2025, 1, 14)"
      ]
     },
     "execution_count": 8,
     "metadata": {},
     "output_type": "execute_result"
    }
   ],
   "source": [
    "nowtime.date()"
   ]
  },
  {
   "cell_type": "code",
   "execution_count": 9,
   "metadata": {},
   "outputs": [
    {
     "data": {
      "text/plain": [
       "datetime.time(3, 11, 49, 857959)"
      ]
     },
     "execution_count": 9,
     "metadata": {},
     "output_type": "execute_result"
    }
   ],
   "source": [
    "nowtime.time()"
   ]
  },
  {
   "cell_type": "markdown",
   "metadata": {},
   "source": [
    "`.date()`, `.time()`을 통해 날짜 정보만 가져오거나, 시간 정보만 가져올 수도 있다."
   ]
  },
  {
   "cell_type": "markdown",
   "metadata": {},
   "source": [
    "## datetime formatting"
   ]
  },
  {
   "cell_type": "markdown",
   "metadata": {},
   "source": [
    "datetime formatting은 크게 두 형식으로 나뉜다.\n",
    "* `strftime()` : datetime 객체를 문자열로 변환\n",
    "* `strptime()` : 문자열을 datetime 객체로 변환"
   ]
  },
  {
   "cell_type": "markdown",
   "metadata": {},
   "source": [
    "날짜 및 시간 관련 포맷 형식은 다음과 같다."
   ]
  },
  {
   "cell_type": "markdown",
   "metadata": {},
   "source": [
    "* 연도\n",
    "    * `%Y` : 4자리 연도\n",
    "    * `%y` : 2자리 연도\n",
    "* 월\n",
    "    * `%m` : 숫자 월\n",
    "    * `%B` : 로케일 월\n",
    "    * `%b` : 축약형 로케일 월\n",
    "* 일\n",
    "    * `%d` : 숫자 일(1~31)\n",
    "    * `%j` : 연중 일(0~366)\n",
    "* 시\n",
    "    * `%H` : 24시간 시\n",
    "    * `%I` : 12시간 시\n",
    "    * `%p` : 로케일 오전/오후\n",
    "* 분\n",
    "    * `%M` : minute\n",
    "* 초\n",
    "    * `%S` : second\n",
    "* 마이크로초\n",
    "    * `%f` : microsecond\n",
    "\n",
    "* 주\n",
    "    * `%W` : 월요일 시작 기준, 연중 몇 번째 주인지 \n",
    "    * `%U` : 일요일 시작 기준, 연중 몇 번째 주인지\n",
    "* 요일\n",
    "    * `%w` : 요일\n",
    "    * `%A` : 로케일 요일\n",
    "    * `%a` : 축약형 로케일 요일\n",
    "* 날짜\n",
    "    * `%c` : 로케일 날짜/시간\n",
    "    * `%x` : 로케일 날짜\n",
    "    * `%X` : 로케일 시간"
   ]
  },
  {
   "cell_type": "markdown",
   "metadata": {},
   "source": [
    "### `.strftime()` : string from time"
   ]
  },
  {
   "cell_type": "markdown",
   "metadata": {},
   "source": [
    "`.strftime()` 함수는 datetime 함수를 지정한 형식의 문자열로 변환한다."
   ]
  },
  {
   "cell_type": "code",
   "execution_count": 14,
   "metadata": {},
   "outputs": [
    {
     "data": {
      "text/plain": [
       "datetime.datetime"
      ]
     },
     "execution_count": 14,
     "metadata": {},
     "output_type": "execute_result"
    }
   ],
   "source": [
    "type(nowtime)"
   ]
  },
  {
   "cell_type": "code",
   "execution_count": 17,
   "metadata": {},
   "outputs": [
    {
     "data": {
      "text/plain": [
       "'2025-01-14 03:11:49'"
      ]
     },
     "execution_count": 17,
     "metadata": {},
     "output_type": "execute_result"
    }
   ],
   "source": [
    "nowtime.strftime('%Y-%m-%d %I:%M:%S')"
   ]
  },
  {
   "cell_type": "markdown",
   "metadata": {},
   "source": [
    "### `.strptime()` : "
   ]
  },
  {
   "cell_type": "markdown",
   "metadata": {},
   "source": [
    "`.strptime()` 함수는 지정한 형식의 문자열을 datetime.datetime 형식으로 변환한다."
   ]
  },
  {
   "cell_type": "code",
   "execution_count": 20,
   "metadata": {},
   "outputs": [
    {
     "data": {
      "text/plain": [
       "datetime.datetime(2019, 1, 1, 0, 0)"
      ]
     },
     "execution_count": 20,
     "metadata": {},
     "output_type": "execute_result"
    }
   ],
   "source": [
    "newtime = datetime.datetime.strptime('2019-01-01 12:00:00', '%Y-%m-%d %I:%M:%S')\n",
    "newtime"
   ]
  },
  {
   "cell_type": "code",
   "execution_count": 21,
   "metadata": {},
   "outputs": [
    {
     "data": {
      "text/plain": [
       "0"
      ]
     },
     "execution_count": 21,
     "metadata": {},
     "output_type": "execute_result"
    }
   ],
   "source": [
    "newtime.microsecond"
   ]
  },
  {
   "cell_type": "markdown",
   "metadata": {},
   "source": [
    "형식을 통해 불러오지 못한 것은 0으로 표시된다."
   ]
  },
  {
   "cell_type": "markdown",
   "metadata": {},
   "source": [
    "## datetime operation"
   ]
  },
  {
   "cell_type": "markdown",
   "metadata": {},
   "source": [
    "`datetime.timedelta` 객체는 두 시간 간 간격을 나타내는 객체이다."
   ]
  },
  {
   "cell_type": "markdown",
   "metadata": {},
   "source": [
    "### 두 시간 간 연산"
   ]
  },
  {
   "cell_type": "code",
   "execution_count": 22,
   "metadata": {},
   "outputs": [
    {
     "data": {
      "text/plain": [
       "datetime.timedelta(days=-2206, seconds=74890, microseconds=142041)"
      ]
     },
     "execution_count": 22,
     "metadata": {},
     "output_type": "execute_result"
    }
   ],
   "source": [
    "newtime - nowtime"
   ]
  },
  {
   "cell_type": "markdown",
   "metadata": {},
   "source": [
    "두 시간 간 연산에서는 `+`를 사용할 수 없다."
   ]
  },
  {
   "cell_type": "markdown",
   "metadata": {},
   "source": [
    "### 시간 + 특정 기간"
   ]
  },
  {
   "cell_type": "code",
   "execution_count": 28,
   "metadata": {},
   "outputs": [
    {
     "data": {
      "text/plain": [
       "(datetime.datetime(2019, 1, 2, 2, 3, 4, 5),\n",
       " datetime.datetime(2018, 12, 30, 21, 56, 55, 999995))"
      ]
     },
     "execution_count": 28,
     "metadata": {},
     "output_type": "execute_result"
    }
   ],
   "source": [
    "td = datetime.timedelta(days=1, hours=2, minutes=3, seconds=4, microseconds=5)\n",
    "newtime + td, newtime - td"
   ]
  },
  {
   "cell_type": "code",
   "execution_count": 27,
   "metadata": {},
   "outputs": [
    {
     "data": {
      "text/plain": [
       "datetime.datetime(2018, 12, 30, 21, 56, 55, 999995)"
      ]
     },
     "execution_count": 27,
     "metadata": {},
     "output_type": "execute_result"
    }
   ],
   "source": [
    "newtime - td"
   ]
  },
  {
   "cell_type": "markdown",
   "metadata": {},
   "source": [
    "그러나, `timedelta` 객체를 통해서는 날짜/초 단위의 연산만 가능하고 월 단위 연산이 불가능하다. 이를 해결하기 위해 `dateutil` 패키지의 `relativedelta` 클래스를 이용할 수 있다."
   ]
  },
  {
   "cell_type": "code",
   "execution_count": 29,
   "metadata": {},
   "outputs": [
    {
     "data": {
      "text/plain": [
       "datetime.datetime(2026, 3, 17, 7, 16, 55, 857966)"
      ]
     },
     "execution_count": 29,
     "metadata": {},
     "output_type": "execute_result"
    }
   ],
   "source": [
    "from dateutil.relativedelta import relativedelta\n",
    "nowtime + relativedelta(years=1, months=2, days=3, hours=4, minutes=5, seconds=6, microseconds=7)"
   ]
  },
  {
   "cell_type": "code",
   "execution_count": null,
   "metadata": {},
   "outputs": [],
   "source": []
  }
 ],
 "metadata": {
  "kernelspec": {
   "display_name": "Python 3",
   "language": "python",
   "name": "python3"
  },
  "language_info": {
   "codemirror_mode": {
    "name": "ipython",
    "version": 3
   },
   "file_extension": ".py",
   "mimetype": "text/x-python",
   "name": "python",
   "nbconvert_exporter": "python",
   "pygments_lexer": "ipython3",
   "version": "3.12.3"
  }
 },
 "nbformat": 4,
 "nbformat_minor": 2
}
