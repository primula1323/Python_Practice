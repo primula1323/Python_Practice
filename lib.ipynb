{
 "cells": [
  {
   "cell_type": "code",
   "execution_count": null,
   "metadata": {},
   "outputs": [],
   "source": [
    "import pickle\n",
    "\n",
    "file = open('profile.pickle', 'wb')\n",
    "filed = {'a':'park', 'b':[1, 4, 2, 6]}\n",
    "pickle.dump(filed, file)\n",
    "file.close()\n",
    "\n"
   ]
  }
 ],
 "metadata": {
  "language_info": {
   "name": "python"
  }
 },
 "nbformat": 4,
 "nbformat_minor": 2
}
